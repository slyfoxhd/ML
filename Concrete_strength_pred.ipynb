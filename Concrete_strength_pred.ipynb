{
 "cells": [
  {
   "cell_type": "code",
   "execution_count": 1,
   "id": "24cc8db9",
   "metadata": {},
   "outputs": [],
   "source": [
    "import pandas as pd\n",
    "import numpy as np\n",
    "import matplotlib.pyplot as plt\n",
    "import seaborn as sns"
   ]
  },
  {
   "cell_type": "markdown",
   "id": "428ab49a",
   "metadata": {},
   "source": [
    "Data Exploration"
   ]
  },
  {
   "cell_type": "code",
   "execution_count": 2,
   "id": "d0217961",
   "metadata": {},
   "outputs": [
    {
     "data": {
      "text/html": [
       "<div>\n",
       "<style scoped>\n",
       "    .dataframe tbody tr th:only-of-type {\n",
       "        vertical-align: middle;\n",
       "    }\n",
       "\n",
       "    .dataframe tbody tr th {\n",
       "        vertical-align: top;\n",
       "    }\n",
       "\n",
       "    .dataframe thead th {\n",
       "        text-align: right;\n",
       "    }\n",
       "</style>\n",
       "<table border=\"1\" class=\"dataframe\">\n",
       "  <thead>\n",
       "    <tr style=\"text-align: right;\">\n",
       "      <th></th>\n",
       "      <th>cement</th>\n",
       "      <th>slag</th>\n",
       "      <th>ash</th>\n",
       "      <th>water</th>\n",
       "      <th>superplastic</th>\n",
       "      <th>coarseagg</th>\n",
       "      <th>fineagg</th>\n",
       "      <th>age</th>\n",
       "      <th>strength</th>\n",
       "    </tr>\n",
       "  </thead>\n",
       "  <tbody>\n",
       "    <tr>\n",
       "      <th>0</th>\n",
       "      <td>141.3</td>\n",
       "      <td>212.0</td>\n",
       "      <td>0.0</td>\n",
       "      <td>203.5</td>\n",
       "      <td>0.0</td>\n",
       "      <td>971.8</td>\n",
       "      <td>748.5</td>\n",
       "      <td>28</td>\n",
       "      <td>29.89</td>\n",
       "    </tr>\n",
       "    <tr>\n",
       "      <th>1</th>\n",
       "      <td>168.9</td>\n",
       "      <td>42.2</td>\n",
       "      <td>124.3</td>\n",
       "      <td>158.3</td>\n",
       "      <td>10.8</td>\n",
       "      <td>1080.8</td>\n",
       "      <td>796.2</td>\n",
       "      <td>14</td>\n",
       "      <td>23.51</td>\n",
       "    </tr>\n",
       "    <tr>\n",
       "      <th>2</th>\n",
       "      <td>250.0</td>\n",
       "      <td>0.0</td>\n",
       "      <td>95.7</td>\n",
       "      <td>187.4</td>\n",
       "      <td>5.5</td>\n",
       "      <td>956.9</td>\n",
       "      <td>861.2</td>\n",
       "      <td>28</td>\n",
       "      <td>29.22</td>\n",
       "    </tr>\n",
       "    <tr>\n",
       "      <th>3</th>\n",
       "      <td>266.0</td>\n",
       "      <td>114.0</td>\n",
       "      <td>0.0</td>\n",
       "      <td>228.0</td>\n",
       "      <td>0.0</td>\n",
       "      <td>932.0</td>\n",
       "      <td>670.0</td>\n",
       "      <td>28</td>\n",
       "      <td>45.85</td>\n",
       "    </tr>\n",
       "    <tr>\n",
       "      <th>4</th>\n",
       "      <td>154.8</td>\n",
       "      <td>183.4</td>\n",
       "      <td>0.0</td>\n",
       "      <td>193.3</td>\n",
       "      <td>9.1</td>\n",
       "      <td>1047.4</td>\n",
       "      <td>696.7</td>\n",
       "      <td>28</td>\n",
       "      <td>18.29</td>\n",
       "    </tr>\n",
       "  </tbody>\n",
       "</table>\n",
       "</div>"
      ],
      "text/plain": [
       "   cement   slag    ash  water  superplastic  coarseagg  fineagg  age  \\\n",
       "0   141.3  212.0    0.0  203.5           0.0      971.8    748.5   28   \n",
       "1   168.9   42.2  124.3  158.3          10.8     1080.8    796.2   14   \n",
       "2   250.0    0.0   95.7  187.4           5.5      956.9    861.2   28   \n",
       "3   266.0  114.0    0.0  228.0           0.0      932.0    670.0   28   \n",
       "4   154.8  183.4    0.0  193.3           9.1     1047.4    696.7   28   \n",
       "\n",
       "   strength  \n",
       "0     29.89  \n",
       "1     23.51  \n",
       "2     29.22  \n",
       "3     45.85  \n",
       "4     18.29  "
      ]
     },
     "execution_count": 2,
     "metadata": {},
     "output_type": "execute_result"
    }
   ],
   "source": [
    "concrete = pd.read_csv('concrete.csv')\n",
    "concrete.head()"
   ]
  },
  {
   "cell_type": "code",
   "execution_count": 3,
   "id": "5a004c03",
   "metadata": {},
   "outputs": [
    {
     "name": "stdout",
     "output_type": "stream",
     "text": [
      "<class 'pandas.core.frame.DataFrame'>\n",
      "RangeIndex: 1030 entries, 0 to 1029\n",
      "Data columns (total 9 columns):\n",
      " #   Column        Non-Null Count  Dtype  \n",
      "---  ------        --------------  -----  \n",
      " 0   cement        1030 non-null   float64\n",
      " 1   slag          1030 non-null   float64\n",
      " 2   ash           1030 non-null   float64\n",
      " 3   water         1030 non-null   float64\n",
      " 4   superplastic  1030 non-null   float64\n",
      " 5   coarseagg     1030 non-null   float64\n",
      " 6   fineagg       1030 non-null   float64\n",
      " 7   age           1030 non-null   int64  \n",
      " 8   strength      1030 non-null   float64\n",
      "dtypes: float64(8), int64(1)\n",
      "memory usage: 72.5 KB\n"
     ]
    }
   ],
   "source": [
    "concrete.info()"
   ]
  },
  {
   "cell_type": "code",
   "execution_count": 4,
   "id": "fc032d10",
   "metadata": {},
   "outputs": [
    {
     "data": {
      "text/html": [
       "<div>\n",
       "<style scoped>\n",
       "    .dataframe tbody tr th:only-of-type {\n",
       "        vertical-align: middle;\n",
       "    }\n",
       "\n",
       "    .dataframe tbody tr th {\n",
       "        vertical-align: top;\n",
       "    }\n",
       "\n",
       "    .dataframe thead th {\n",
       "        text-align: right;\n",
       "    }\n",
       "</style>\n",
       "<table border=\"1\" class=\"dataframe\">\n",
       "  <thead>\n",
       "    <tr style=\"text-align: right;\">\n",
       "      <th></th>\n",
       "      <th>cement</th>\n",
       "      <th>slag</th>\n",
       "      <th>ash</th>\n",
       "      <th>water</th>\n",
       "      <th>superplastic</th>\n",
       "      <th>coarseagg</th>\n",
       "      <th>fineagg</th>\n",
       "      <th>age</th>\n",
       "      <th>strength</th>\n",
       "    </tr>\n",
       "  </thead>\n",
       "  <tbody>\n",
       "    <tr>\n",
       "      <th>count</th>\n",
       "      <td>1030.000000</td>\n",
       "      <td>1030.000000</td>\n",
       "      <td>1030.000000</td>\n",
       "      <td>1030.000000</td>\n",
       "      <td>1030.000000</td>\n",
       "      <td>1030.000000</td>\n",
       "      <td>1030.000000</td>\n",
       "      <td>1030.000000</td>\n",
       "      <td>1030.000000</td>\n",
       "    </tr>\n",
       "    <tr>\n",
       "      <th>mean</th>\n",
       "      <td>281.167864</td>\n",
       "      <td>73.895825</td>\n",
       "      <td>54.188350</td>\n",
       "      <td>181.567282</td>\n",
       "      <td>6.204660</td>\n",
       "      <td>972.918932</td>\n",
       "      <td>773.580485</td>\n",
       "      <td>45.662136</td>\n",
       "      <td>35.817961</td>\n",
       "    </tr>\n",
       "    <tr>\n",
       "      <th>std</th>\n",
       "      <td>104.506364</td>\n",
       "      <td>86.279342</td>\n",
       "      <td>63.997004</td>\n",
       "      <td>21.354219</td>\n",
       "      <td>5.973841</td>\n",
       "      <td>77.753954</td>\n",
       "      <td>80.175980</td>\n",
       "      <td>63.169912</td>\n",
       "      <td>16.705742</td>\n",
       "    </tr>\n",
       "    <tr>\n",
       "      <th>min</th>\n",
       "      <td>102.000000</td>\n",
       "      <td>0.000000</td>\n",
       "      <td>0.000000</td>\n",
       "      <td>121.800000</td>\n",
       "      <td>0.000000</td>\n",
       "      <td>801.000000</td>\n",
       "      <td>594.000000</td>\n",
       "      <td>1.000000</td>\n",
       "      <td>2.330000</td>\n",
       "    </tr>\n",
       "    <tr>\n",
       "      <th>25%</th>\n",
       "      <td>192.375000</td>\n",
       "      <td>0.000000</td>\n",
       "      <td>0.000000</td>\n",
       "      <td>164.900000</td>\n",
       "      <td>0.000000</td>\n",
       "      <td>932.000000</td>\n",
       "      <td>730.950000</td>\n",
       "      <td>7.000000</td>\n",
       "      <td>23.710000</td>\n",
       "    </tr>\n",
       "    <tr>\n",
       "      <th>50%</th>\n",
       "      <td>272.900000</td>\n",
       "      <td>22.000000</td>\n",
       "      <td>0.000000</td>\n",
       "      <td>185.000000</td>\n",
       "      <td>6.400000</td>\n",
       "      <td>968.000000</td>\n",
       "      <td>779.500000</td>\n",
       "      <td>28.000000</td>\n",
       "      <td>34.445000</td>\n",
       "    </tr>\n",
       "    <tr>\n",
       "      <th>75%</th>\n",
       "      <td>350.000000</td>\n",
       "      <td>142.950000</td>\n",
       "      <td>118.300000</td>\n",
       "      <td>192.000000</td>\n",
       "      <td>10.200000</td>\n",
       "      <td>1029.400000</td>\n",
       "      <td>824.000000</td>\n",
       "      <td>56.000000</td>\n",
       "      <td>46.135000</td>\n",
       "    </tr>\n",
       "    <tr>\n",
       "      <th>max</th>\n",
       "      <td>540.000000</td>\n",
       "      <td>359.400000</td>\n",
       "      <td>200.100000</td>\n",
       "      <td>247.000000</td>\n",
       "      <td>32.200000</td>\n",
       "      <td>1145.000000</td>\n",
       "      <td>992.600000</td>\n",
       "      <td>365.000000</td>\n",
       "      <td>82.600000</td>\n",
       "    </tr>\n",
       "  </tbody>\n",
       "</table>\n",
       "</div>"
      ],
      "text/plain": [
       "            cement         slag          ash        water  superplastic  \\\n",
       "count  1030.000000  1030.000000  1030.000000  1030.000000   1030.000000   \n",
       "mean    281.167864    73.895825    54.188350   181.567282      6.204660   \n",
       "std     104.506364    86.279342    63.997004    21.354219      5.973841   \n",
       "min     102.000000     0.000000     0.000000   121.800000      0.000000   \n",
       "25%     192.375000     0.000000     0.000000   164.900000      0.000000   \n",
       "50%     272.900000    22.000000     0.000000   185.000000      6.400000   \n",
       "75%     350.000000   142.950000   118.300000   192.000000     10.200000   \n",
       "max     540.000000   359.400000   200.100000   247.000000     32.200000   \n",
       "\n",
       "         coarseagg      fineagg          age     strength  \n",
       "count  1030.000000  1030.000000  1030.000000  1030.000000  \n",
       "mean    972.918932   773.580485    45.662136    35.817961  \n",
       "std      77.753954    80.175980    63.169912    16.705742  \n",
       "min     801.000000   594.000000     1.000000     2.330000  \n",
       "25%     932.000000   730.950000     7.000000    23.710000  \n",
       "50%     968.000000   779.500000    28.000000    34.445000  \n",
       "75%    1029.400000   824.000000    56.000000    46.135000  \n",
       "max    1145.000000   992.600000   365.000000    82.600000  "
      ]
     },
     "execution_count": 4,
     "metadata": {},
     "output_type": "execute_result"
    }
   ],
   "source": [
    "concrete.describe()"
   ]
  },
  {
   "cell_type": "code",
   "execution_count": 5,
   "id": "24565f1f",
   "metadata": {},
   "outputs": [
    {
     "data": {
      "image/png": "[encoded data removed]",
      "text/plain": [
       "<Figure size 1440x1080 with 9 Axes>"
      ]
     },
     "metadata": {
      "needs_background": "light"
     },
     "output_type": "display_data"
    }
   ],
   "source": [
    "concrete.hist(bins=50, figsize=(20,15))\n",
    "plt.show()"
   ]
  },
  {
   "cell_type": "code",
   "execution_count": 6,
   "id": "8dc8e9ef",
   "metadata": {},
   "outputs": [
    {
     "data": {
      "text/plain": [
       "28     425\n",
       "3      134\n",
       "7      126\n",
       "56      91\n",
       "14      62\n",
       "90      54\n",
       "100     52\n",
       "180     26\n",
       "91      22\n",
       "365     14\n",
       "270     13\n",
       "360      6\n",
       "120      3\n",
       "1        2\n",
       "Name: age, dtype: int64"
      ]
     },
     "execution_count": 6,
     "metadata": {},
     "output_type": "execute_result"
    }
   ],
   "source": [
    "concrete['age'].value_counts()"
   ]
  },
  {
   "cell_type": "code",
   "execution_count": 7,
   "id": "089fb784",
   "metadata": {},
   "outputs": [
    {
     "data": {
      "text/plain": [
       "<AxesSubplot:xlabel='age', ylabel='strength'>"
      ]
     },
     "execution_count": 7,
     "metadata": {},
     "output_type": "execute_result"
    },
    {
     "data": {
      "image/png": "[encoded data removed]",
      "text/plain": [
       "<Figure size 1152x576 with 1 Axes>"
      ]
     },
     "metadata": {
      "needs_background": "light"
     },
     "output_type": "display_data"
    }
   ],
   "source": [
    "plt.figure(figsize=(16,8))\n",
    "sns.barplot(x='age', y='strength', data=concrete, capsize=0.1,errcolor='gray', errwidth=2, ci='sd')"
   ]
  },
  {
   "cell_type": "code",
   "execution_count": 8,
   "id": "2c8d6665",
   "metadata": {},
   "outputs": [
    {
     "data": {
      "text/plain": [
       "<AxesSubplot:xlabel='age', ylabel='strength'>"
      ]
     },
     "execution_count": 8,
     "metadata": {},
     "output_type": "execute_result"
    },
    {
     "data": {
      "image/png": "[encoded data removed]",
      "text/plain": [
       "<Figure size 1152x576 with 1 Axes>"
      ]
     },
     "metadata": {
      "needs_background": "light"
     },
     "output_type": "display_data"
    }
   ],
   "source": [
    "plt.figure(figsize=(16,8))\n",
    "sns.scatterplot(x='age', y='strength', data=concrete)"
   ]
  },
  {
   "cell_type": "code",
   "execution_count": 9,
   "id": "50de0494",
   "metadata": {},
   "outputs": [
    {
     "data": {
      "text/plain": [
       "<AxesSubplot:>"
      ]
     },
     "execution_count": 9,
     "metadata": {},
     "output_type": "execute_result"
    },
    {
     "data": {
      "image/png": "[encoded data removed]",
      "text/plain": [
       "<Figure size 1152x576 with 1 Axes>"
      ]
     },
     "metadata": {
      "needs_background": "light"
     },
     "output_type": "display_data"
    }
   ],
   "source": [
    "plt.figure(figsize=(16,8))\n",
    "sns.boxplot(data= concrete[['cement', 'slag', 'ash', 'water', 'coarseagg', 'fineagg']])"
   ]
  },
  {
   "cell_type": "code",
   "execution_count": 10,
   "id": "62976421",
   "metadata": {},
   "outputs": [],
   "source": [
    "concrete = concrete.copy()"
   ]
  },
  {
   "cell_type": "code",
   "execution_count": 11,
   "id": "abb09010",
   "metadata": {},
   "outputs": [
    {
     "data": {
      "text/html": [
       "<div>\n",
       "<style scoped>\n",
       "    .dataframe tbody tr th:only-of-type {\n",
       "        vertical-align: middle;\n",
       "    }\n",
       "\n",
       "    .dataframe tbody tr th {\n",
       "        vertical-align: top;\n",
       "    }\n",
       "\n",
       "    .dataframe thead th {\n",
       "        text-align: right;\n",
       "    }\n",
       "</style>\n",
       "<table border=\"1\" class=\"dataframe\">\n",
       "  <thead>\n",
       "    <tr style=\"text-align: right;\">\n",
       "      <th></th>\n",
       "      <th>cement</th>\n",
       "      <th>slag</th>\n",
       "      <th>ash</th>\n",
       "      <th>water</th>\n",
       "      <th>superplastic</th>\n",
       "      <th>coarseagg</th>\n",
       "      <th>fineagg</th>\n",
       "      <th>age</th>\n",
       "      <th>strength</th>\n",
       "      <th>CEM III</th>\n",
       "    </tr>\n",
       "  </thead>\n",
       "  <tbody>\n",
       "    <tr>\n",
       "      <th>0</th>\n",
       "      <td>141.3</td>\n",
       "      <td>212.0</td>\n",
       "      <td>0.0</td>\n",
       "      <td>203.5</td>\n",
       "      <td>0.0</td>\n",
       "      <td>971.8</td>\n",
       "      <td>748.5</td>\n",
       "      <td>28</td>\n",
       "      <td>29.89</td>\n",
       "      <td>353.3</td>\n",
       "    </tr>\n",
       "    <tr>\n",
       "      <th>1</th>\n",
       "      <td>168.9</td>\n",
       "      <td>42.2</td>\n",
       "      <td>124.3</td>\n",
       "      <td>158.3</td>\n",
       "      <td>10.8</td>\n",
       "      <td>1080.8</td>\n",
       "      <td>796.2</td>\n",
       "      <td>14</td>\n",
       "      <td>23.51</td>\n",
       "      <td>211.1</td>\n",
       "    </tr>\n",
       "    <tr>\n",
       "      <th>2</th>\n",
       "      <td>250.0</td>\n",
       "      <td>0.0</td>\n",
       "      <td>95.7</td>\n",
       "      <td>187.4</td>\n",
       "      <td>5.5</td>\n",
       "      <td>956.9</td>\n",
       "      <td>861.2</td>\n",
       "      <td>28</td>\n",
       "      <td>29.22</td>\n",
       "      <td>250.0</td>\n",
       "    </tr>\n",
       "    <tr>\n",
       "      <th>3</th>\n",
       "      <td>266.0</td>\n",
       "      <td>114.0</td>\n",
       "      <td>0.0</td>\n",
       "      <td>228.0</td>\n",
       "      <td>0.0</td>\n",
       "      <td>932.0</td>\n",
       "      <td>670.0</td>\n",
       "      <td>28</td>\n",
       "      <td>45.85</td>\n",
       "      <td>380.0</td>\n",
       "    </tr>\n",
       "    <tr>\n",
       "      <th>4</th>\n",
       "      <td>154.8</td>\n",
       "      <td>183.4</td>\n",
       "      <td>0.0</td>\n",
       "      <td>193.3</td>\n",
       "      <td>9.1</td>\n",
       "      <td>1047.4</td>\n",
       "      <td>696.7</td>\n",
       "      <td>28</td>\n",
       "      <td>18.29</td>\n",
       "      <td>338.2</td>\n",
       "    </tr>\n",
       "    <tr>\n",
       "      <th>...</th>\n",
       "      <td>...</td>\n",
       "      <td>...</td>\n",
       "      <td>...</td>\n",
       "      <td>...</td>\n",
       "      <td>...</td>\n",
       "      <td>...</td>\n",
       "      <td>...</td>\n",
       "      <td>...</td>\n",
       "      <td>...</td>\n",
       "      <td>...</td>\n",
       "    </tr>\n",
       "    <tr>\n",
       "      <th>1025</th>\n",
       "      <td>135.0</td>\n",
       "      <td>0.0</td>\n",
       "      <td>166.0</td>\n",
       "      <td>180.0</td>\n",
       "      <td>10.0</td>\n",
       "      <td>961.0</td>\n",
       "      <td>805.0</td>\n",
       "      <td>28</td>\n",
       "      <td>13.29</td>\n",
       "      <td>135.0</td>\n",
       "    </tr>\n",
       "    <tr>\n",
       "      <th>1026</th>\n",
       "      <td>531.3</td>\n",
       "      <td>0.0</td>\n",
       "      <td>0.0</td>\n",
       "      <td>141.8</td>\n",
       "      <td>28.2</td>\n",
       "      <td>852.1</td>\n",
       "      <td>893.7</td>\n",
       "      <td>3</td>\n",
       "      <td>41.30</td>\n",
       "      <td>531.3</td>\n",
       "    </tr>\n",
       "    <tr>\n",
       "      <th>1027</th>\n",
       "      <td>276.4</td>\n",
       "      <td>116.0</td>\n",
       "      <td>90.3</td>\n",
       "      <td>179.6</td>\n",
       "      <td>8.9</td>\n",
       "      <td>870.1</td>\n",
       "      <td>768.3</td>\n",
       "      <td>28</td>\n",
       "      <td>44.28</td>\n",
       "      <td>392.4</td>\n",
       "    </tr>\n",
       "    <tr>\n",
       "      <th>1028</th>\n",
       "      <td>342.0</td>\n",
       "      <td>38.0</td>\n",
       "      <td>0.0</td>\n",
       "      <td>228.0</td>\n",
       "      <td>0.0</td>\n",
       "      <td>932.0</td>\n",
       "      <td>670.0</td>\n",
       "      <td>270</td>\n",
       "      <td>55.06</td>\n",
       "      <td>380.0</td>\n",
       "    </tr>\n",
       "    <tr>\n",
       "      <th>1029</th>\n",
       "      <td>540.0</td>\n",
       "      <td>0.0</td>\n",
       "      <td>0.0</td>\n",
       "      <td>173.0</td>\n",
       "      <td>0.0</td>\n",
       "      <td>1125.0</td>\n",
       "      <td>613.0</td>\n",
       "      <td>7</td>\n",
       "      <td>52.61</td>\n",
       "      <td>540.0</td>\n",
       "    </tr>\n",
       "  </tbody>\n",
       "</table>\n",
       "<p>1030 rows × 10 columns</p>\n",
       "</div>"
      ],
      "text/plain": [
       "      cement   slag    ash  water  superplastic  coarseagg  fineagg  age  \\\n",
       "0      141.3  212.0    0.0  203.5           0.0      971.8    748.5   28   \n",
       "1      168.9   42.2  124.3  158.3          10.8     1080.8    796.2   14   \n",
       "2      250.0    0.0   95.7  187.4           5.5      956.9    861.2   28   \n",
       "3      266.0  114.0    0.0  228.0           0.0      932.0    670.0   28   \n",
       "4      154.8  183.4    0.0  193.3           9.1     1047.4    696.7   28   \n",
       "...      ...    ...    ...    ...           ...        ...      ...  ...   \n",
       "1025   135.0    0.0  166.0  180.0          10.0      961.0    805.0   28   \n",
       "1026   531.3    0.0    0.0  141.8          28.2      852.1    893.7    3   \n",
       "1027   276.4  116.0   90.3  179.6           8.9      870.1    768.3   28   \n",
       "1028   342.0   38.0    0.0  228.0           0.0      932.0    670.0  270   \n",
       "1029   540.0    0.0    0.0  173.0           0.0     1125.0    613.0    7   \n",
       "\n",
       "      strength  CEM III  \n",
       "0        29.89    353.3  \n",
       "1        23.51    211.1  \n",
       "2        29.22    250.0  \n",
       "3        45.85    380.0  \n",
       "4        18.29    338.2  \n",
       "...        ...      ...  \n",
       "1025     13.29    135.0  \n",
       "1026     41.30    531.3  \n",
       "1027     44.28    392.4  \n",
       "1028     55.06    380.0  \n",
       "1029     52.61    540.0  \n",
       "\n",
       "[1030 rows x 10 columns]"
      ]
     },
     "execution_count": 11,
     "metadata": {},
     "output_type": "execute_result"
    }
   ],
   "source": [
    "concrete['CEM III'] = concrete['cement'] + concrete['slag']\n",
    "concrete"
   ]
  },
  {
   "cell_type": "code",
   "execution_count": 12,
   "id": "527ec545",
   "metadata": {},
   "outputs": [
    {
     "data": {
      "text/html": [
       "<div>\n",
       "<style scoped>\n",
       "    .dataframe tbody tr th:only-of-type {\n",
       "        vertical-align: middle;\n",
       "    }\n",
       "\n",
       "    .dataframe tbody tr th {\n",
       "        vertical-align: top;\n",
       "    }\n",
       "\n",
       "    .dataframe thead th {\n",
       "        text-align: right;\n",
       "    }\n",
       "</style>\n",
       "<table border=\"1\" class=\"dataframe\">\n",
       "  <thead>\n",
       "    <tr style=\"text-align: right;\">\n",
       "      <th></th>\n",
       "      <th>cement</th>\n",
       "      <th>slag</th>\n",
       "      <th>ash</th>\n",
       "      <th>water</th>\n",
       "      <th>superplastic</th>\n",
       "      <th>coarseagg</th>\n",
       "      <th>fineagg</th>\n",
       "      <th>age</th>\n",
       "      <th>strength</th>\n",
       "      <th>CEM III</th>\n",
       "      <th>(w/z)eq</th>\n",
       "    </tr>\n",
       "  </thead>\n",
       "  <tbody>\n",
       "    <tr>\n",
       "      <th>0</th>\n",
       "      <td>141.3</td>\n",
       "      <td>212.0</td>\n",
       "      <td>0.0</td>\n",
       "      <td>203.5</td>\n",
       "      <td>0.0</td>\n",
       "      <td>971.8</td>\n",
       "      <td>748.5</td>\n",
       "      <td>28</td>\n",
       "      <td>29.89</td>\n",
       "      <td>353.3</td>\n",
       "      <td>0.575998</td>\n",
       "    </tr>\n",
       "    <tr>\n",
       "      <th>1</th>\n",
       "      <td>168.9</td>\n",
       "      <td>42.2</td>\n",
       "      <td>124.3</td>\n",
       "      <td>158.3</td>\n",
       "      <td>10.8</td>\n",
       "      <td>1080.8</td>\n",
       "      <td>796.2</td>\n",
       "      <td>14</td>\n",
       "      <td>23.51</td>\n",
       "      <td>211.1</td>\n",
       "      <td>0.606932</td>\n",
       "    </tr>\n",
       "    <tr>\n",
       "      <th>2</th>\n",
       "      <td>250.0</td>\n",
       "      <td>0.0</td>\n",
       "      <td>95.7</td>\n",
       "      <td>187.4</td>\n",
       "      <td>5.5</td>\n",
       "      <td>956.9</td>\n",
       "      <td>861.2</td>\n",
       "      <td>28</td>\n",
       "      <td>29.22</td>\n",
       "      <td>250.0</td>\n",
       "      <td>0.650062</td>\n",
       "    </tr>\n",
       "    <tr>\n",
       "      <th>3</th>\n",
       "      <td>266.0</td>\n",
       "      <td>114.0</td>\n",
       "      <td>0.0</td>\n",
       "      <td>228.0</td>\n",
       "      <td>0.0</td>\n",
       "      <td>932.0</td>\n",
       "      <td>670.0</td>\n",
       "      <td>28</td>\n",
       "      <td>45.85</td>\n",
       "      <td>380.0</td>\n",
       "      <td>0.600000</td>\n",
       "    </tr>\n",
       "    <tr>\n",
       "      <th>4</th>\n",
       "      <td>154.8</td>\n",
       "      <td>183.4</td>\n",
       "      <td>0.0</td>\n",
       "      <td>193.3</td>\n",
       "      <td>9.1</td>\n",
       "      <td>1047.4</td>\n",
       "      <td>696.7</td>\n",
       "      <td>28</td>\n",
       "      <td>18.29</td>\n",
       "      <td>338.2</td>\n",
       "      <td>0.571555</td>\n",
       "    </tr>\n",
       "    <tr>\n",
       "      <th>...</th>\n",
       "      <td>...</td>\n",
       "      <td>...</td>\n",
       "      <td>...</td>\n",
       "      <td>...</td>\n",
       "      <td>...</td>\n",
       "      <td>...</td>\n",
       "      <td>...</td>\n",
       "      <td>...</td>\n",
       "      <td>...</td>\n",
       "      <td>...</td>\n",
       "      <td>...</td>\n",
       "    </tr>\n",
       "    <tr>\n",
       "      <th>1025</th>\n",
       "      <td>135.0</td>\n",
       "      <td>0.0</td>\n",
       "      <td>166.0</td>\n",
       "      <td>180.0</td>\n",
       "      <td>10.0</td>\n",
       "      <td>961.0</td>\n",
       "      <td>805.0</td>\n",
       "      <td>28</td>\n",
       "      <td>13.29</td>\n",
       "      <td>135.0</td>\n",
       "      <td>0.893744</td>\n",
       "    </tr>\n",
       "    <tr>\n",
       "      <th>1026</th>\n",
       "      <td>531.3</td>\n",
       "      <td>0.0</td>\n",
       "      <td>0.0</td>\n",
       "      <td>141.8</td>\n",
       "      <td>28.2</td>\n",
       "      <td>852.1</td>\n",
       "      <td>893.7</td>\n",
       "      <td>3</td>\n",
       "      <td>41.30</td>\n",
       "      <td>531.3</td>\n",
       "      <td>0.266893</td>\n",
       "    </tr>\n",
       "    <tr>\n",
       "      <th>1027</th>\n",
       "      <td>276.4</td>\n",
       "      <td>116.0</td>\n",
       "      <td>90.3</td>\n",
       "      <td>179.6</td>\n",
       "      <td>8.9</td>\n",
       "      <td>870.1</td>\n",
       "      <td>768.3</td>\n",
       "      <td>28</td>\n",
       "      <td>44.28</td>\n",
       "      <td>392.4</td>\n",
       "      <td>0.419117</td>\n",
       "    </tr>\n",
       "    <tr>\n",
       "      <th>1028</th>\n",
       "      <td>342.0</td>\n",
       "      <td>38.0</td>\n",
       "      <td>0.0</td>\n",
       "      <td>228.0</td>\n",
       "      <td>0.0</td>\n",
       "      <td>932.0</td>\n",
       "      <td>670.0</td>\n",
       "      <td>270</td>\n",
       "      <td>55.06</td>\n",
       "      <td>380.0</td>\n",
       "      <td>0.600000</td>\n",
       "    </tr>\n",
       "    <tr>\n",
       "      <th>1029</th>\n",
       "      <td>540.0</td>\n",
       "      <td>0.0</td>\n",
       "      <td>0.0</td>\n",
       "      <td>173.0</td>\n",
       "      <td>0.0</td>\n",
       "      <td>1125.0</td>\n",
       "      <td>613.0</td>\n",
       "      <td>7</td>\n",
       "      <td>52.61</td>\n",
       "      <td>540.0</td>\n",
       "      <td>0.320370</td>\n",
       "    </tr>\n",
       "  </tbody>\n",
       "</table>\n",
       "<p>1030 rows × 11 columns</p>\n",
       "</div>"
      ],
      "text/plain": [
       "      cement   slag    ash  water  superplastic  coarseagg  fineagg  age  \\\n",
       "0      141.3  212.0    0.0  203.5           0.0      971.8    748.5   28   \n",
       "1      168.9   42.2  124.3  158.3          10.8     1080.8    796.2   14   \n",
       "2      250.0    0.0   95.7  187.4           5.5      956.9    861.2   28   \n",
       "3      266.0  114.0    0.0  228.0           0.0      932.0    670.0   28   \n",
       "4      154.8  183.4    0.0  193.3           9.1     1047.4    696.7   28   \n",
       "...      ...    ...    ...    ...           ...        ...      ...  ...   \n",
       "1025   135.0    0.0  166.0  180.0          10.0      961.0    805.0   28   \n",
       "1026   531.3    0.0    0.0  141.8          28.2      852.1    893.7    3   \n",
       "1027   276.4  116.0   90.3  179.6           8.9      870.1    768.3   28   \n",
       "1028   342.0   38.0    0.0  228.0           0.0      932.0    670.0  270   \n",
       "1029   540.0    0.0    0.0  173.0           0.0     1125.0    613.0    7   \n",
       "\n",
       "      strength  CEM III   (w/z)eq  \n",
       "0        29.89    353.3  0.575998  \n",
       "1        23.51    211.1  0.606932  \n",
       "2        29.22    250.0  0.650062  \n",
       "3        45.85    380.0  0.600000  \n",
       "4        18.29    338.2  0.571555  \n",
       "...        ...      ...       ...  \n",
       "1025     13.29    135.0  0.893744  \n",
       "1026     41.30    531.3  0.266893  \n",
       "1027     44.28    392.4  0.419117  \n",
       "1028     55.06    380.0  0.600000  \n",
       "1029     52.61    540.0  0.320370  \n",
       "\n",
       "[1030 rows x 11 columns]"
      ]
     },
     "execution_count": 12,
     "metadata": {},
     "output_type": "execute_result"
    }
   ],
   "source": [
    "# Equivalent w/z\n",
    "concrete['(w/z)eq'] = concrete['water'] / ( concrete['CEM III'] + 0.4 * concrete['ash'] )\n",
    "concrete"
   ]
  },
  {
   "cell_type": "code",
   "execution_count": 13,
   "id": "354b752e",
   "metadata": {},
   "outputs": [
    {
     "data": {
      "text/plain": [
       "<matplotlib.legend.Legend at 0xb5d0520>"
      ]
     },
     "execution_count": 13,
     "metadata": {},
     "output_type": "execute_result"
    },
    {
     "data": {
      "image/png": "[encoded data removed]",
      "text/plain": [
       "<Figure size 1152x576 with 1 Axes>"
      ]
     },
     "metadata": {
      "needs_background": "light"
     },
     "output_type": "display_data"
    }
   ],
   "source": [
    "from scipy import stats\n",
    "\n",
    "plt.figure(figsize=(16,8))\n",
    "sns.regplot(x='(w/z)eq', y='strength', data=concrete)\n",
    "\n",
    "slope, intercept, r_value, p_value, std_err = stats.linregress(concrete['(w/z)eq'],concrete['strength'])\n",
    "\n",
    "\n",
    "ax = sns.regplot(x='(w/z)eq', y='strength', data=concrete, color='b', \n",
    " line_kws={'label':\"y={0:.1f}x+{1:.1f}\".format(slope,intercept)})\n",
    "ax.legend()"
   ]
  },
  {
   "cell_type": "code",
   "execution_count": 14,
   "id": "542dba4c",
   "metadata": {},
   "outputs": [
    {
     "name": "stderr",
     "output_type": "stream",
     "text": [
      "<ipython-input-14-c8bfa1afd80d>:2: DeprecationWarning: `np.bool` is a deprecated alias for the builtin `bool`. To silence this warning, use `bool` by itself. Doing this will not modify any behavior and is safe. If you specifically wanted the numpy scalar type, use `np.bool_` here.\n",
      "Deprecated in NumPy 1.20; for more details and guidance: https://numpy.org/devdocs/release/1.20.0-notes.html#deprecations\n",
      "  mask = np.triu(np.ones_like(concrete.corr(), dtype=np.bool))\n"
     ]
    },
    {
     "data": {
      "image/png": "[encoded data removed]",
      "text/plain": [
       "<Figure size 1152x432 with 2 Axes>"
      ]
     },
     "metadata": {
      "needs_background": "light"
     },
     "output_type": "display_data"
    }
   ],
   "source": [
    "plt.figure(figsize=(16,6))\n",
    "mask = np.triu(np.ones_like(concrete.corr(), dtype=np.bool))\n",
    "heatmap = sns.heatmap(concrete.corr(), mask=mask, vmin=-1, vmax=1, annot=True, cmap='coolwarm')\n",
    "heatmap.set_title('Triangle Correlation Heatmap', fontdict={'fontsize':18}, pad=16);"
   ]
  },
  {
   "cell_type": "code",
   "execution_count": 15,
   "id": "0df1384a",
   "metadata": {},
   "outputs": [
    {
     "data": {
      "image/png": "[encoded data removed]",
      "text/plain": [
       "<Figure size 576x864 with 2 Axes>"
      ]
     },
     "metadata": {
      "needs_background": "light"
     },
     "output_type": "display_data"
    }
   ],
   "source": [
    "plt.figure(figsize=(8, 12))\n",
    "heatmap = sns.heatmap(concrete.corr()[['strength']].sort_values(by='strength', ascending=False),\n",
    "                      vmin=-1, vmax=1, annot=True, cmap='coolwarm')\n",
    "heatmap.set_title('Features Correlating with Concrete Strength', fontdict={'fontsize':18}, pad=16);"
   ]
  },
  {
   "cell_type": "markdown",
   "id": "a11eb6a7",
   "metadata": {},
   "source": [
    "Stratify Data (train data should have similar feature distribution than original data)"
   ]
  },
  {
   "cell_type": "code",
   "execution_count": 16,
   "id": "a728e623",
   "metadata": {},
   "outputs": [
    {
     "data": {
      "text/html": [
       "<div>\n",
       "<style scoped>\n",
       "    .dataframe tbody tr th:only-of-type {\n",
       "        vertical-align: middle;\n",
       "    }\n",
       "\n",
       "    .dataframe tbody tr th {\n",
       "        vertical-align: top;\n",
       "    }\n",
       "\n",
       "    .dataframe thead th {\n",
       "        text-align: right;\n",
       "    }\n",
       "</style>\n",
       "<table border=\"1\" class=\"dataframe\">\n",
       "  <thead>\n",
       "    <tr style=\"text-align: right;\">\n",
       "      <th></th>\n",
       "      <th>cement</th>\n",
       "      <th>slag</th>\n",
       "      <th>ash</th>\n",
       "      <th>water</th>\n",
       "      <th>superplastic</th>\n",
       "      <th>coarseagg</th>\n",
       "      <th>fineagg</th>\n",
       "      <th>age</th>\n",
       "      <th>strength</th>\n",
       "      <th>CEM III</th>\n",
       "      <th>(w/z)eq</th>\n",
       "      <th>age_cat</th>\n",
       "    </tr>\n",
       "  </thead>\n",
       "  <tbody>\n",
       "    <tr>\n",
       "      <th>0</th>\n",
       "      <td>141.3</td>\n",
       "      <td>212.0</td>\n",
       "      <td>0.0</td>\n",
       "      <td>203.5</td>\n",
       "      <td>0.0</td>\n",
       "      <td>971.8</td>\n",
       "      <td>748.5</td>\n",
       "      <td>28</td>\n",
       "      <td>29.89</td>\n",
       "      <td>353.3</td>\n",
       "      <td>0.575998</td>\n",
       "      <td>28</td>\n",
       "    </tr>\n",
       "    <tr>\n",
       "      <th>1</th>\n",
       "      <td>168.9</td>\n",
       "      <td>42.2</td>\n",
       "      <td>124.3</td>\n",
       "      <td>158.3</td>\n",
       "      <td>10.8</td>\n",
       "      <td>1080.8</td>\n",
       "      <td>796.2</td>\n",
       "      <td>14</td>\n",
       "      <td>23.51</td>\n",
       "      <td>211.1</td>\n",
       "      <td>0.606932</td>\n",
       "      <td>14</td>\n",
       "    </tr>\n",
       "    <tr>\n",
       "      <th>2</th>\n",
       "      <td>250.0</td>\n",
       "      <td>0.0</td>\n",
       "      <td>95.7</td>\n",
       "      <td>187.4</td>\n",
       "      <td>5.5</td>\n",
       "      <td>956.9</td>\n",
       "      <td>861.2</td>\n",
       "      <td>28</td>\n",
       "      <td>29.22</td>\n",
       "      <td>250.0</td>\n",
       "      <td>0.650062</td>\n",
       "      <td>28</td>\n",
       "    </tr>\n",
       "    <tr>\n",
       "      <th>3</th>\n",
       "      <td>266.0</td>\n",
       "      <td>114.0</td>\n",
       "      <td>0.0</td>\n",
       "      <td>228.0</td>\n",
       "      <td>0.0</td>\n",
       "      <td>932.0</td>\n",
       "      <td>670.0</td>\n",
       "      <td>28</td>\n",
       "      <td>45.85</td>\n",
       "      <td>380.0</td>\n",
       "      <td>0.600000</td>\n",
       "      <td>28</td>\n",
       "    </tr>\n",
       "    <tr>\n",
       "      <th>4</th>\n",
       "      <td>154.8</td>\n",
       "      <td>183.4</td>\n",
       "      <td>0.0</td>\n",
       "      <td>193.3</td>\n",
       "      <td>9.1</td>\n",
       "      <td>1047.4</td>\n",
       "      <td>696.7</td>\n",
       "      <td>28</td>\n",
       "      <td>18.29</td>\n",
       "      <td>338.2</td>\n",
       "      <td>0.571555</td>\n",
       "      <td>28</td>\n",
       "    </tr>\n",
       "  </tbody>\n",
       "</table>\n",
       "</div>"
      ],
      "text/plain": [
       "   cement   slag    ash  water  superplastic  coarseagg  fineagg  age  \\\n",
       "0   141.3  212.0    0.0  203.5           0.0      971.8    748.5   28   \n",
       "1   168.9   42.2  124.3  158.3          10.8     1080.8    796.2   14   \n",
       "2   250.0    0.0   95.7  187.4           5.5      956.9    861.2   28   \n",
       "3   266.0  114.0    0.0  228.0           0.0      932.0    670.0   28   \n",
       "4   154.8  183.4    0.0  193.3           9.1     1047.4    696.7   28   \n",
       "\n",
       "   strength  CEM III   (w/z)eq age_cat  \n",
       "0     29.89    353.3  0.575998      28  \n",
       "1     23.51    211.1  0.606932      14  \n",
       "2     29.22    250.0  0.650062      28  \n",
       "3     45.85    380.0  0.600000      28  \n",
       "4     18.29    338.2  0.571555      28  "
      ]
     },
     "execution_count": 16,
     "metadata": {},
     "output_type": "execute_result"
    }
   ],
   "source": [
    "# for the model training, the same age distribution should be applied than in the original model\n",
    "concrete[\"age_cat\"] = pd.cut(concrete[\"age\"],\n",
    "                               bins=[0., 7.0, 14.0, 28.0, 56.0, 91.0, 180, np.inf],\n",
    "                               labels=[7, 14, 28, 56, 91, 180, 365])\n",
    "concrete.head()"
   ]
  },
  {
   "cell_type": "code",
   "execution_count": 17,
   "id": "3a33de91",
   "metadata": {},
   "outputs": [
    {
     "data": {
      "text/plain": [
       "<AxesSubplot:>"
      ]
     },
     "execution_count": 17,
     "metadata": {},
     "output_type": "execute_result"
    },
    {
     "data": {
      "image/png": "[encoded data removed]",
      "text/plain": [
       "<Figure size 432x288 with 1 Axes>"
      ]
     },
     "metadata": {
      "needs_background": "light"
     },
     "output_type": "display_data"
    }
   ],
   "source": [
    "concrete['age_cat'].hist()"
   ]
  },
  {
   "cell_type": "code",
   "execution_count": 18,
   "id": "c589e162",
   "metadata": {},
   "outputs": [],
   "source": [
    "from sklearn.model_selection import StratifiedShuffleSplit"
   ]
  },
  {
   "cell_type": "code",
   "execution_count": 19,
   "id": "6d1381e7",
   "metadata": {},
   "outputs": [],
   "source": [
    "split = StratifiedShuffleSplit(n_splits=1, test_size=0.2, random_state=42)"
   ]
  },
  {
   "cell_type": "code",
   "execution_count": 20,
   "id": "74f68d57",
   "metadata": {},
   "outputs": [],
   "source": [
    "for train_index, test_index in split.split(concrete, concrete[\"age_cat\"]):\n",
    "    strat_train_set = concrete.loc[train_index]\n",
    "    strat_test_set = concrete.loc[test_index]"
   ]
  },
  {
   "cell_type": "code",
   "execution_count": 21,
   "id": "41ed1f90",
   "metadata": {},
   "outputs": [
    {
     "data": {
      "text/plain": [
       "28     0.412621\n",
       "7      0.253641\n",
       "56     0.088592\n",
       "180    0.078883\n",
       "91     0.074029\n",
       "14     0.060680\n",
       "365    0.031553\n",
       "Name: age_cat, dtype: float64"
      ]
     },
     "execution_count": 21,
     "metadata": {},
     "output_type": "execute_result"
    }
   ],
   "source": [
    "strat_train_set[\"age_cat\"].value_counts() / len(strat_train_set)"
   ]
  },
  {
   "cell_type": "code",
   "execution_count": 22,
   "id": "c6e1b23c",
   "metadata": {},
   "outputs": [
    {
     "data": {
      "text/plain": [
       "28     0.412621\n",
       "7      0.254369\n",
       "56     0.088350\n",
       "180    0.078641\n",
       "91     0.073786\n",
       "14     0.060194\n",
       "365    0.032039\n",
       "Name: age_cat, dtype: float64"
      ]
     },
     "execution_count": 22,
     "metadata": {},
     "output_type": "execute_result"
    }
   ],
   "source": [
    "concrete['age_cat'].value_counts()/len(concrete['age'])"
   ]
  },
  {
   "cell_type": "markdown",
   "id": "dcbbc111",
   "metadata": {},
   "source": [
    "Train, Test, Split"
   ]
  },
  {
   "cell_type": "code",
   "execution_count": 23,
   "id": "8e70248e",
   "metadata": {},
   "outputs": [],
   "source": [
    "from sklearn.model_selection import train_test_split"
   ]
  },
  {
   "cell_type": "code",
   "execution_count": 24,
   "id": "1df3cdae",
   "metadata": {},
   "outputs": [],
   "source": [
    "train_set, test_set = train_test_split(concrete, test_size=0.2, random_state=42)"
   ]
  },
  {
   "cell_type": "code",
   "execution_count": 25,
   "id": "1ca95548",
   "metadata": {},
   "outputs": [
    {
     "data": {
      "text/plain": [
       "824"
      ]
     },
     "execution_count": 25,
     "metadata": {},
     "output_type": "execute_result"
    }
   ],
   "source": [
    "len(train_set)"
   ]
  },
  {
   "cell_type": "code",
   "execution_count": 26,
   "id": "9720b301",
   "metadata": {},
   "outputs": [
    {
     "data": {
      "text/plain": [
       "206"
      ]
     },
     "execution_count": 26,
     "metadata": {},
     "output_type": "execute_result"
    }
   ],
   "source": [
    "len(test_set)"
   ]
  },
  {
   "cell_type": "code",
   "execution_count": 27,
   "id": "72951bda",
   "metadata": {},
   "outputs": [
    {
     "data": {
      "text/html": [
       "<div>\n",
       "<style scoped>\n",
       "    .dataframe tbody tr th:only-of-type {\n",
       "        vertical-align: middle;\n",
       "    }\n",
       "\n",
       "    .dataframe tbody tr th {\n",
       "        vertical-align: top;\n",
       "    }\n",
       "\n",
       "    .dataframe thead th {\n",
       "        text-align: right;\n",
       "    }\n",
       "</style>\n",
       "<table border=\"1\" class=\"dataframe\">\n",
       "  <thead>\n",
       "    <tr style=\"text-align: right;\">\n",
       "      <th></th>\n",
       "      <th>cement</th>\n",
       "      <th>slag</th>\n",
       "      <th>ash</th>\n",
       "      <th>water</th>\n",
       "      <th>superplastic</th>\n",
       "      <th>coarseagg</th>\n",
       "      <th>fineagg</th>\n",
       "      <th>age</th>\n",
       "      <th>strength</th>\n",
       "      <th>CEM III</th>\n",
       "      <th>(w/z)eq</th>\n",
       "      <th>age_cat</th>\n",
       "    </tr>\n",
       "  </thead>\n",
       "  <tbody>\n",
       "    <tr>\n",
       "      <th>0</th>\n",
       "      <td>141.3</td>\n",
       "      <td>212.0</td>\n",
       "      <td>0.0</td>\n",
       "      <td>203.5</td>\n",
       "      <td>0.0</td>\n",
       "      <td>971.8</td>\n",
       "      <td>748.5</td>\n",
       "      <td>28</td>\n",
       "      <td>29.89</td>\n",
       "      <td>353.3</td>\n",
       "      <td>0.575998</td>\n",
       "      <td>28</td>\n",
       "    </tr>\n",
       "    <tr>\n",
       "      <th>1</th>\n",
       "      <td>168.9</td>\n",
       "      <td>42.2</td>\n",
       "      <td>124.3</td>\n",
       "      <td>158.3</td>\n",
       "      <td>10.8</td>\n",
       "      <td>1080.8</td>\n",
       "      <td>796.2</td>\n",
       "      <td>14</td>\n",
       "      <td>23.51</td>\n",
       "      <td>211.1</td>\n",
       "      <td>0.606932</td>\n",
       "      <td>14</td>\n",
       "    </tr>\n",
       "    <tr>\n",
       "      <th>2</th>\n",
       "      <td>250.0</td>\n",
       "      <td>0.0</td>\n",
       "      <td>95.7</td>\n",
       "      <td>187.4</td>\n",
       "      <td>5.5</td>\n",
       "      <td>956.9</td>\n",
       "      <td>861.2</td>\n",
       "      <td>28</td>\n",
       "      <td>29.22</td>\n",
       "      <td>250.0</td>\n",
       "      <td>0.650062</td>\n",
       "      <td>28</td>\n",
       "    </tr>\n",
       "    <tr>\n",
       "      <th>3</th>\n",
       "      <td>266.0</td>\n",
       "      <td>114.0</td>\n",
       "      <td>0.0</td>\n",
       "      <td>228.0</td>\n",
       "      <td>0.0</td>\n",
       "      <td>932.0</td>\n",
       "      <td>670.0</td>\n",
       "      <td>28</td>\n",
       "      <td>45.85</td>\n",
       "      <td>380.0</td>\n",
       "      <td>0.600000</td>\n",
       "      <td>28</td>\n",
       "    </tr>\n",
       "    <tr>\n",
       "      <th>4</th>\n",
       "      <td>154.8</td>\n",
       "      <td>183.4</td>\n",
       "      <td>0.0</td>\n",
       "      <td>193.3</td>\n",
       "      <td>9.1</td>\n",
       "      <td>1047.4</td>\n",
       "      <td>696.7</td>\n",
       "      <td>28</td>\n",
       "      <td>18.29</td>\n",
       "      <td>338.2</td>\n",
       "      <td>0.571555</td>\n",
       "      <td>28</td>\n",
       "    </tr>\n",
       "  </tbody>\n",
       "</table>\n",
       "</div>"
      ],
      "text/plain": [
       "   cement   slag    ash  water  superplastic  coarseagg  fineagg  age  \\\n",
       "0   141.3  212.0    0.0  203.5           0.0      971.8    748.5   28   \n",
       "1   168.9   42.2  124.3  158.3          10.8     1080.8    796.2   14   \n",
       "2   250.0    0.0   95.7  187.4           5.5      956.9    861.2   28   \n",
       "3   266.0  114.0    0.0  228.0           0.0      932.0    670.0   28   \n",
       "4   154.8  183.4    0.0  193.3           9.1     1047.4    696.7   28   \n",
       "\n",
       "   strength  CEM III   (w/z)eq age_cat  \n",
       "0     29.89    353.3  0.575998      28  \n",
       "1     23.51    211.1  0.606932      14  \n",
       "2     29.22    250.0  0.650062      28  \n",
       "3     45.85    380.0  0.600000      28  \n",
       "4     18.29    338.2  0.571555      28  "
      ]
     },
     "execution_count": 27,
     "metadata": {},
     "output_type": "execute_result"
    }
   ],
   "source": [
    "concrete.head()"
   ]
  },
  {
   "cell_type": "code",
   "execution_count": 28,
   "id": "ba21ca6f",
   "metadata": {},
   "outputs": [],
   "source": [
    "for set_ in (strat_train_set, strat_test_set):\n",
    "    set_.drop(\"age_cat\", axis=1, inplace=True)"
   ]
  },
  {
   "cell_type": "code",
   "execution_count": 29,
   "id": "8ca04c19",
   "metadata": {},
   "outputs": [],
   "source": [
    "concrete = strat_train_set.copy()"
   ]
  },
  {
   "cell_type": "markdown",
   "id": "77b28a9a",
   "metadata": {},
   "source": [
    "Seperate attributes from labels"
   ]
  },
  {
   "cell_type": "code",
   "execution_count": 30,
   "id": "059bac23",
   "metadata": {},
   "outputs": [],
   "source": [
    "concrete = strat_train_set.drop(\"strength\", axis=1)\n",
    "concrete_labels = strat_train_set[\"strength\"].copy()"
   ]
  },
  {
   "cell_type": "code",
   "execution_count": 31,
   "id": "7bbf1e89",
   "metadata": {},
   "outputs": [
    {
     "data": {
      "text/plain": [
       "568    13.12\n",
       "566    26.14\n",
       "462    39.23\n",
       "732    79.99\n",
       "436    53.39\n",
       "Name: strength, dtype: float64"
      ]
     },
     "execution_count": 31,
     "metadata": {},
     "output_type": "execute_result"
    }
   ],
   "source": [
    "concrete_labels.head()"
   ]
  },
  {
   "cell_type": "code",
   "execution_count": 32,
   "id": "cd27c50b",
   "metadata": {},
   "outputs": [
    {
     "name": "stdout",
     "output_type": "stream",
     "text": [
      "<class 'pandas.core.frame.DataFrame'>\n",
      "Int64Index: 824 entries, 568 to 317\n",
      "Data columns (total 10 columns):\n",
      " #   Column        Non-Null Count  Dtype  \n",
      "---  ------        --------------  -----  \n",
      " 0   cement        824 non-null    float64\n",
      " 1   slag          824 non-null    float64\n",
      " 2   ash           824 non-null    float64\n",
      " 3   water         824 non-null    float64\n",
      " 4   superplastic  824 non-null    float64\n",
      " 5   coarseagg     824 non-null    float64\n",
      " 6   fineagg       824 non-null    float64\n",
      " 7   age           824 non-null    int64  \n",
      " 8   CEM III       824 non-null    float64\n",
      " 9   (w/z)eq       824 non-null    float64\n",
      "dtypes: float64(9), int64(1)\n",
      "memory usage: 70.8 KB\n"
     ]
    }
   ],
   "source": [
    "concrete.info()"
   ]
  },
  {
   "cell_type": "markdown",
   "id": "f5ade6c0",
   "metadata": {},
   "source": [
    "Imputing missing values --> not necessary in this case"
   ]
  },
  {
   "cell_type": "markdown",
   "id": "f5cb31bb",
   "metadata": {},
   "source": [
    "One-Hot-Encoding of categorical values --> no categorical values in dataset"
   ]
  },
  {
   "cell_type": "code",
   "execution_count": 33,
   "id": "9f6db6c7",
   "metadata": {},
   "outputs": [
    {
     "data": {
      "text/html": [
       "<div>\n",
       "<style scoped>\n",
       "    .dataframe tbody tr th:only-of-type {\n",
       "        vertical-align: middle;\n",
       "    }\n",
       "\n",
       "    .dataframe tbody tr th {\n",
       "        vertical-align: top;\n",
       "    }\n",
       "\n",
       "    .dataframe thead th {\n",
       "        text-align: right;\n",
       "    }\n",
       "</style>\n",
       "<table border=\"1\" class=\"dataframe\">\n",
       "  <thead>\n",
       "    <tr style=\"text-align: right;\">\n",
       "      <th></th>\n",
       "      <th>cement</th>\n",
       "      <th>slag</th>\n",
       "      <th>ash</th>\n",
       "      <th>water</th>\n",
       "      <th>superplastic</th>\n",
       "      <th>coarseagg</th>\n",
       "      <th>fineagg</th>\n",
       "      <th>age</th>\n",
       "      <th>CEM III</th>\n",
       "      <th>(w/z)eq</th>\n",
       "    </tr>\n",
       "  </thead>\n",
       "  <tbody>\n",
       "    <tr>\n",
       "      <th>568</th>\n",
       "      <td>251.4</td>\n",
       "      <td>0.0</td>\n",
       "      <td>118.3</td>\n",
       "      <td>188.5</td>\n",
       "      <td>6.4</td>\n",
       "      <td>1028.4</td>\n",
       "      <td>757.7</td>\n",
       "      <td>3</td>\n",
       "      <td>251.4</td>\n",
       "      <td>0.631026</td>\n",
       "    </tr>\n",
       "    <tr>\n",
       "      <th>566</th>\n",
       "      <td>144.0</td>\n",
       "      <td>136.0</td>\n",
       "      <td>106.0</td>\n",
       "      <td>178.0</td>\n",
       "      <td>7.0</td>\n",
       "      <td>941.0</td>\n",
       "      <td>774.0</td>\n",
       "      <td>28</td>\n",
       "      <td>280.0</td>\n",
       "      <td>0.552109</td>\n",
       "    </tr>\n",
       "    <tr>\n",
       "      <th>462</th>\n",
       "      <td>168.0</td>\n",
       "      <td>42.1</td>\n",
       "      <td>163.8</td>\n",
       "      <td>121.8</td>\n",
       "      <td>5.7</td>\n",
       "      <td>1058.7</td>\n",
       "      <td>780.1</td>\n",
       "      <td>100</td>\n",
       "      <td>210.1</td>\n",
       "      <td>0.441913</td>\n",
       "    </tr>\n",
       "    <tr>\n",
       "      <th>732</th>\n",
       "      <td>540.0</td>\n",
       "      <td>0.0</td>\n",
       "      <td>0.0</td>\n",
       "      <td>162.0</td>\n",
       "      <td>2.5</td>\n",
       "      <td>1040.0</td>\n",
       "      <td>676.0</td>\n",
       "      <td>28</td>\n",
       "      <td>540.0</td>\n",
       "      <td>0.300000</td>\n",
       "    </tr>\n",
       "    <tr>\n",
       "      <th>436</th>\n",
       "      <td>446.0</td>\n",
       "      <td>24.0</td>\n",
       "      <td>79.0</td>\n",
       "      <td>162.0</td>\n",
       "      <td>10.3</td>\n",
       "      <td>967.0</td>\n",
       "      <td>712.0</td>\n",
       "      <td>28</td>\n",
       "      <td>470.0</td>\n",
       "      <td>0.322967</td>\n",
       "    </tr>\n",
       "  </tbody>\n",
       "</table>\n",
       "</div>"
      ],
      "text/plain": [
       "     cement   slag    ash  water  superplastic  coarseagg  fineagg  age  \\\n",
       "568   251.4    0.0  118.3  188.5           6.4     1028.4    757.7    3   \n",
       "566   144.0  136.0  106.0  178.0           7.0      941.0    774.0   28   \n",
       "462   168.0   42.1  163.8  121.8           5.7     1058.7    780.1  100   \n",
       "732   540.0    0.0    0.0  162.0           2.5     1040.0    676.0   28   \n",
       "436   446.0   24.0   79.0  162.0          10.3      967.0    712.0   28   \n",
       "\n",
       "     CEM III   (w/z)eq  \n",
       "568    251.4  0.631026  \n",
       "566    280.0  0.552109  \n",
       "462    210.1  0.441913  \n",
       "732    540.0  0.300000  \n",
       "436    470.0  0.322967  "
      ]
     },
     "execution_count": 33,
     "metadata": {},
     "output_type": "execute_result"
    }
   ],
   "source": [
    "concrete.head()"
   ]
  },
  {
   "cell_type": "markdown",
   "id": "e4fae9e3",
   "metadata": {},
   "source": [
    "Adding and combine cutomized attributes to model by fitting and transforming those attributes with customized CombineAttributeAdder Class"
   ]
  },
  {
   "cell_type": "code",
   "execution_count": 34,
   "id": "d777b01c",
   "metadata": {},
   "outputs": [],
   "source": [
    "from sklearn.base import BaseEstimator, TransformerMixin"
   ]
  },
  {
   "cell_type": "code",
   "execution_count": 35,
   "id": "cbebb40d",
   "metadata": {},
   "outputs": [
    {
     "data": {
      "text/plain": [
       "array([2.5140000e+02, 0.0000000e+00, 1.1830000e+02, 1.8850000e+02,\n",
       "       6.4000000e+00, 1.0284000e+03, 7.5770000e+02, 3.0000000e+00,\n",
       "       2.5140000e+02, 6.3102571e-01])"
      ]
     },
     "execution_count": 35,
     "metadata": {},
     "output_type": "execute_result"
    }
   ],
   "source": [
    "concrete.values[0]"
   ]
  },
  {
   "cell_type": "code",
   "execution_count": 36,
   "id": "049583df",
   "metadata": {},
   "outputs": [
    {
     "data": {
      "text/plain": [
       "array([2.51400000e+02, 0.00000000e+00, 1.18300000e+02, 1.88500000e+02,\n",
       "       6.40000000e+00, 1.02840000e+03, 7.57700000e+02, 3.00000000e+00,\n",
       "       2.51400000e+02, 6.31025710e-01, 6.52450455e-01])"
      ]
     },
     "execution_count": 36,
     "metadata": {},
     "output_type": "execute_result"
    }
   ],
   "source": [
    "# consider superplasticizer amount in (w/z)eq as another attribute\n",
    "#ash_ix, water_ix, superplastic_ix, CEMIII_ix = 2, 3, 4, 8 #num are col position in concrete df \n",
    "col_names = \"ash\", \"water\", \"superplastic\", \"CEM III\"\n",
    "ash_ix, water_ix, superplastic_ix, CEMIII_ix = [concrete.columns.get_loc(c) for c in col_names]\n",
    "\n",
    "\n",
    "class CombinedAttributesAdder(BaseEstimator, TransformerMixin):\n",
    "    def __init__(self, add_factor=True): # no *args or **kargs\n",
    "        self.add_factor = add_factor\n",
    "        \n",
    "    def fit(self, X, y=None):\n",
    "        return self # nothing else to do\n",
    "    \n",
    "    def transform(self, X, y=None):\n",
    "        wz_eq = ( X[:, water_ix] + X[:, superplastic_ix] ) / ( X[:, CEMIII_ix] + 0.4 * X[:, ash_ix])\n",
    "        \n",
    "        if self.add_factor is True:\n",
    "            return np.c_[X, wz_eq * self.add_factor]\n",
    "        else:\n",
    "            return np.c_[X, wz_eq]\n",
    "        \n",
    "attr_adder = CombinedAttributesAdder(add_factor=False)\n",
    "concrete_extra_attribs = attr_adder.transform(concrete.values)\n",
    "concrete_extra_attribs[0]"
   ]
  },
  {
   "cell_type": "markdown",
   "id": "cf56db44",
   "metadata": {},
   "source": [
    "Create pipeline for numerical and/or categorical values (e.g. in this case no impute, just add attributes and scale data (either min/max scaler or standard dev scaler to lower outlier impact)"
   ]
  },
  {
   "cell_type": "code",
   "execution_count": 37,
   "id": "e1cb373b",
   "metadata": {},
   "outputs": [],
   "source": [
    "from sklearn.pipeline import Pipeline\n",
    "from sklearn.compose import ColumnTransformer\n",
    "from sklearn.impute import SimpleImputer\n",
    "from sklearn.preprocessing import StandardScaler"
   ]
  },
  {
   "cell_type": "code",
   "execution_count": 38,
   "id": "49751f1b",
   "metadata": {},
   "outputs": [],
   "source": [
    "num_pipeline = Pipeline([\n",
    "    ('imputer', SimpleImputer(strategy='median')),\n",
    "    ('attribs_adder', CombinedAttributesAdder()),\n",
    "        ('std_scaler', StandardScaler())])"
   ]
  },
  {
   "cell_type": "code",
   "execution_count": 39,
   "id": "257a7609",
   "metadata": {},
   "outputs": [
    {
     "data": {
      "text/plain": [
       "array([-0.25984465, -0.87431626,  1.02572617,  0.30277946,  0.04057278,\n",
       "        0.70501606, -0.1894303 , -0.67609511, -0.90734446,  0.75498946,\n",
       "        0.78583096])"
      ]
     },
     "execution_count": 39,
     "metadata": {},
     "output_type": "execute_result"
    }
   ],
   "source": [
    "concrete_tr = num_pipeline.fit_transform(concrete)\n",
    "concrete_tr[0]"
   ]
  },
  {
   "cell_type": "code",
   "execution_count": 40,
   "id": "3154e9c2",
   "metadata": {},
   "outputs": [
    {
     "data": {
      "text/plain": [
       "array([-0.25984465, -0.87431626,  1.02572617,  0.30277946,  0.04057278,\n",
       "        0.70501606, -0.1894303 , -0.67609511, -0.90734446,  0.75498946,\n",
       "        0.78583096])"
      ]
     },
     "execution_count": 40,
     "metadata": {},
     "output_type": "execute_result"
    }
   ],
   "source": [
    "#this step is not necessary, however this pipeline comes in handy if you\n",
    "#have to deal with numerical and categorical values\n",
    "num_attribs = list(concrete)\n",
    "#cat_attribs = [\"ocean_proximity\"]\n",
    "full_pipeline = ColumnTransformer([\n",
    "    (\"num\", num_pipeline, num_attribs)\n",
    "    ])\n",
    "concrete_prepared = full_pipeline.fit_transform(concrete)\n",
    "concrete_prepared[0]"
   ]
  },
  {
   "cell_type": "markdown",
   "id": "f32f60ee",
   "metadata": {},
   "source": [
    "**ML-models**"
   ]
  },
  {
   "cell_type": "markdown",
   "id": "9a10ebd7",
   "metadata": {},
   "source": [
    "Linear Regression"
   ]
  },
  {
   "cell_type": "code",
   "execution_count": 41,
   "id": "c1a1f858",
   "metadata": {},
   "outputs": [],
   "source": [
    "from sklearn.linear_model import LinearRegression"
   ]
  },
  {
   "cell_type": "code",
   "execution_count": 42,
   "id": "48f93d4c",
   "metadata": {},
   "outputs": [
    {
     "data": {
      "text/plain": [
       "LinearRegression()"
      ]
     },
     "execution_count": 42,
     "metadata": {},
     "output_type": "execute_result"
    }
   ],
   "source": [
    "lin_reg = LinearRegression()\n",
    "lin_reg.fit(concrete_prepared, concrete_labels)"
   ]
  },
  {
   "cell_type": "code",
   "execution_count": 43,
   "id": "51eb30cb",
   "metadata": {},
   "outputs": [
    {
     "data": {
      "text/html": [
       "<div>\n",
       "<style scoped>\n",
       "    .dataframe tbody tr th:only-of-type {\n",
       "        vertical-align: middle;\n",
       "    }\n",
       "\n",
       "    .dataframe tbody tr th {\n",
       "        vertical-align: top;\n",
       "    }\n",
       "\n",
       "    .dataframe thead th {\n",
       "        text-align: right;\n",
       "    }\n",
       "</style>\n",
       "<table border=\"1\" class=\"dataframe\">\n",
       "  <thead>\n",
       "    <tr style=\"text-align: right;\">\n",
       "      <th></th>\n",
       "      <th>cement</th>\n",
       "      <th>slag</th>\n",
       "      <th>ash</th>\n",
       "      <th>water</th>\n",
       "      <th>superplastic</th>\n",
       "      <th>coarseagg</th>\n",
       "      <th>fineagg</th>\n",
       "      <th>age</th>\n",
       "      <th>CEM III</th>\n",
       "      <th>(w/z)eq</th>\n",
       "    </tr>\n",
       "  </thead>\n",
       "  <tbody>\n",
       "    <tr>\n",
       "      <th>568</th>\n",
       "      <td>251.4</td>\n",
       "      <td>0.0</td>\n",
       "      <td>118.3</td>\n",
       "      <td>188.5</td>\n",
       "      <td>6.4</td>\n",
       "      <td>1028.4</td>\n",
       "      <td>757.7</td>\n",
       "      <td>3</td>\n",
       "      <td>251.4</td>\n",
       "      <td>0.631026</td>\n",
       "    </tr>\n",
       "    <tr>\n",
       "      <th>566</th>\n",
       "      <td>144.0</td>\n",
       "      <td>136.0</td>\n",
       "      <td>106.0</td>\n",
       "      <td>178.0</td>\n",
       "      <td>7.0</td>\n",
       "      <td>941.0</td>\n",
       "      <td>774.0</td>\n",
       "      <td>28</td>\n",
       "      <td>280.0</td>\n",
       "      <td>0.552109</td>\n",
       "    </tr>\n",
       "    <tr>\n",
       "      <th>462</th>\n",
       "      <td>168.0</td>\n",
       "      <td>42.1</td>\n",
       "      <td>163.8</td>\n",
       "      <td>121.8</td>\n",
       "      <td>5.7</td>\n",
       "      <td>1058.7</td>\n",
       "      <td>780.1</td>\n",
       "      <td>100</td>\n",
       "      <td>210.1</td>\n",
       "      <td>0.441913</td>\n",
       "    </tr>\n",
       "    <tr>\n",
       "      <th>732</th>\n",
       "      <td>540.0</td>\n",
       "      <td>0.0</td>\n",
       "      <td>0.0</td>\n",
       "      <td>162.0</td>\n",
       "      <td>2.5</td>\n",
       "      <td>1040.0</td>\n",
       "      <td>676.0</td>\n",
       "      <td>28</td>\n",
       "      <td>540.0</td>\n",
       "      <td>0.300000</td>\n",
       "    </tr>\n",
       "    <tr>\n",
       "      <th>436</th>\n",
       "      <td>446.0</td>\n",
       "      <td>24.0</td>\n",
       "      <td>79.0</td>\n",
       "      <td>162.0</td>\n",
       "      <td>10.3</td>\n",
       "      <td>967.0</td>\n",
       "      <td>712.0</td>\n",
       "      <td>28</td>\n",
       "      <td>470.0</td>\n",
       "      <td>0.322967</td>\n",
       "    </tr>\n",
       "  </tbody>\n",
       "</table>\n",
       "</div>"
      ],
      "text/plain": [
       "     cement   slag    ash  water  superplastic  coarseagg  fineagg  age  \\\n",
       "568   251.4    0.0  118.3  188.5           6.4     1028.4    757.7    3   \n",
       "566   144.0  136.0  106.0  178.0           7.0      941.0    774.0   28   \n",
       "462   168.0   42.1  163.8  121.8           5.7     1058.7    780.1  100   \n",
       "732   540.0    0.0    0.0  162.0           2.5     1040.0    676.0   28   \n",
       "436   446.0   24.0   79.0  162.0          10.3      967.0    712.0   28   \n",
       "\n",
       "     CEM III   (w/z)eq  \n",
       "568    251.4  0.631026  \n",
       "566    280.0  0.552109  \n",
       "462    210.1  0.441913  \n",
       "732    540.0  0.300000  \n",
       "436    470.0  0.322967  "
      ]
     },
     "execution_count": 43,
     "metadata": {},
     "output_type": "execute_result"
    }
   ],
   "source": [
    "some_data = concrete.iloc[:5]\n",
    "some_data"
   ]
  },
  {
   "cell_type": "code",
   "execution_count": 44,
   "id": "83c76567",
   "metadata": {},
   "outputs": [
    {
     "data": {
      "text/plain": [
       "568    13.12\n",
       "566    26.14\n",
       "462    39.23\n",
       "732    79.99\n",
       "436    53.39\n",
       "Name: strength, dtype: float64"
      ]
     },
     "execution_count": 44,
     "metadata": {},
     "output_type": "execute_result"
    }
   ],
   "source": [
    "some_labels = concrete_labels.iloc[:5]\n",
    "some_labels"
   ]
  },
  {
   "cell_type": "code",
   "execution_count": 45,
   "id": "db28942d",
   "metadata": {},
   "outputs": [
    {
     "data": {
      "text/plain": [
       "array([[-0.25984465, -0.87431626,  1.02572617,  0.30277946,  0.04057278,\n",
       "         0.70501606, -0.1894303 , -0.67609511, -0.90734446,  0.75498946,\n",
       "         0.78583096],\n",
       "       [-1.29637007,  0.69453355,  0.83212063, -0.18932105,  0.14076851,\n",
       "        -0.41700455,  0.01349653, -0.27927594, -0.65470656,  0.21589734,\n",
       "         0.24854857],\n",
       "       [-1.06474428, -0.38866496,  1.74190926, -2.82323045, -0.07632223,\n",
       "         1.09400032,  0.08943847,  0.86356327, -1.27216772, -0.53687287,\n",
       "        -0.51148541],\n",
       "       [ 2.52545553, -0.87431626, -0.83634987, -0.9391885 , -0.61069944,\n",
       "         0.85393413, -1.20655433, -0.27927594,  1.64200164, -1.50630299,\n",
       "        -1.59087141],\n",
       "       [ 1.6182545 , -0.59746041,  0.40713286, -0.9391885 ,  0.69184501,\n",
       "        -0.08322268, -0.75837238, -0.27927594,  1.02365712, -1.34941491,\n",
       "        -1.32525995]])"
      ]
     },
     "execution_count": 45,
     "metadata": {},
     "output_type": "execute_result"
    }
   ],
   "source": [
    "some_data_prepared = full_pipeline.transform(some_data)\n",
    "some_data_prepared"
   ]
  },
  {
   "cell_type": "code",
   "execution_count": 46,
   "id": "7e00908b",
   "metadata": {},
   "outputs": [
    {
     "name": "stdout",
     "output_type": "stream",
     "text": [
      "Predictions: [25.37903914 29.08755016 46.5095306  51.12630572 52.68734411]\n"
     ]
    }
   ],
   "source": [
    "print(\"Predictions:\", lin_reg.predict(some_data_prepared))"
   ]
  },
  {
   "cell_type": "code",
   "execution_count": 47,
   "id": "7d80c8a7",
   "metadata": {},
   "outputs": [
    {
     "name": "stdout",
     "output_type": "stream",
     "text": [
      "Labels: [13.12, 26.14, 39.23, 79.99, 53.39]\n"
     ]
    }
   ],
   "source": [
    "print(\"Labels:\", list(some_labels))"
   ]
  },
  {
   "cell_type": "markdown",
   "id": "8d5d2dd0",
   "metadata": {},
   "source": [
    "Sqr root error of predicted values"
   ]
  },
  {
   "cell_type": "code",
   "execution_count": 48,
   "id": "cf39b1a9",
   "metadata": {},
   "outputs": [],
   "source": [
    "from sklearn.metrics import mean_squared_error"
   ]
  },
  {
   "cell_type": "code",
   "execution_count": 49,
   "id": "e607501b",
   "metadata": {},
   "outputs": [
    {
     "data": {
      "text/plain": [
       "10.314981667692688"
      ]
     },
     "execution_count": 49,
     "metadata": {},
     "output_type": "execute_result"
    }
   ],
   "source": [
    "concrete_predictions = lin_reg.predict(concrete_prepared)\n",
    "lin_mse = mean_squared_error(concrete_labels, concrete_predictions)\n",
    "lin_rmse = np.sqrt(lin_mse)\n",
    "lin_rmse"
   ]
  },
  {
   "cell_type": "markdown",
   "id": "599738dc",
   "metadata": {},
   "source": [
    "Decision Tree Regression Model"
   ]
  },
  {
   "cell_type": "code",
   "execution_count": 50,
   "id": "f891d1d0",
   "metadata": {},
   "outputs": [],
   "source": [
    "from sklearn.tree import DecisionTreeRegressor"
   ]
  },
  {
   "cell_type": "code",
   "execution_count": 51,
   "id": "d7277b18",
   "metadata": {},
   "outputs": [
    {
     "data": {
      "text/plain": [
       "DecisionTreeRegressor()"
      ]
     },
     "execution_count": 51,
     "metadata": {},
     "output_type": "execute_result"
    }
   ],
   "source": [
    "tree_reg = DecisionTreeRegressor()\n",
    "tree_reg.fit(concrete_prepared, concrete_labels)"
   ]
  },
  {
   "cell_type": "code",
   "execution_count": 52,
   "id": "3b3cead8",
   "metadata": {},
   "outputs": [],
   "source": [
    "from sklearn.model_selection import cross_val_score"
   ]
  },
  {
   "cell_type": "code",
   "execution_count": 53,
   "id": "455809f4",
   "metadata": {},
   "outputs": [],
   "source": [
    "scores = cross_val_score(tree_reg, concrete_prepared, concrete_labels, \n",
    "                         scoring=\"neg_mean_squared_error\", cv=10)\n",
    "tree_rmse_scores = np.sqrt(-scores)"
   ]
  },
  {
   "cell_type": "code",
   "execution_count": 54,
   "id": "f44cbab1",
   "metadata": {},
   "outputs": [
    {
     "name": "stdout",
     "output_type": "stream",
     "text": [
      "Scores: [7.55614367 6.92683817 6.18694662 4.32525618 7.01986647 6.10688039\n",
      " 5.04995874 4.65293338 5.80334901 6.46461287]\n",
      "Mean: 6.0092785495949785\n",
      "Standard deviation: 1.0071108072584236\n"
     ]
    }
   ],
   "source": [
    "def display_scores(scores):\n",
    "    print(\"Scores:\", scores)\n",
    "    print(\"Mean:\", scores.mean())\n",
    "    print(\"Standard deviation:\", scores.std())\n",
    "    \n",
    "display_scores(tree_rmse_scores)"
   ]
  },
  {
   "cell_type": "markdown",
   "id": "e0ab03f9",
   "metadata": {},
   "source": [
    "Ensemble Random Forest Regression Model"
   ]
  },
  {
   "cell_type": "code",
   "execution_count": 55,
   "id": "0008dee6",
   "metadata": {},
   "outputs": [],
   "source": [
    "from sklearn.ensemble import RandomForestRegressor"
   ]
  },
  {
   "cell_type": "code",
   "execution_count": 56,
   "id": "b2670753",
   "metadata": {},
   "outputs": [
    {
     "data": {
      "text/plain": [
       "RandomForestRegressor()"
      ]
     },
     "execution_count": 56,
     "metadata": {},
     "output_type": "execute_result"
    }
   ],
   "source": [
    "forest_reg = RandomForestRegressor()\n",
    "forest_reg.fit(concrete_prepared, concrete_labels)"
   ]
  },
  {
   "cell_type": "code",
   "execution_count": 57,
   "id": "d4c2086d",
   "metadata": {},
   "outputs": [
    {
     "data": {
      "text/plain": [
       "2.120006650199007"
      ]
     },
     "execution_count": 57,
     "metadata": {},
     "output_type": "execute_result"
    }
   ],
   "source": [
    "concrete_predi = forest_reg.predict(concrete_prepared)\n",
    "forest_mse = mean_squared_error(concrete_labels, concrete_predi)\n",
    "forest_rmse = np.sqrt(forest_mse)\n",
    "forest_rmse"
   ]
  },
  {
   "cell_type": "code",
   "execution_count": 58,
   "id": "9a5743d8",
   "metadata": {},
   "outputs": [],
   "source": [
    "forest_scores = cross_val_score(forest_reg, concrete_prepared, concrete_labels, \n",
    "                         scoring=\"neg_mean_squared_error\", cv=10)\n",
    "forest_rmse_scores = np.sqrt(-forest_scores)"
   ]
  },
  {
   "cell_type": "code",
   "execution_count": 59,
   "id": "f71f315a",
   "metadata": {},
   "outputs": [
    {
     "name": "stdout",
     "output_type": "stream",
     "text": [
      "Scores: [6.27371168 5.70489059 4.88240756 4.08686151 5.18514469 5.26203687\n",
      " 4.56120875 3.63053728 5.68430377 4.90961953]\n",
      "Mean: 5.018072222673541\n",
      "Standard deviation: 0.7490623527349787\n"
     ]
    }
   ],
   "source": [
    "display_scores(forest_rmse_scores)"
   ]
  },
  {
   "cell_type": "markdown",
   "id": "c79d3dd9",
   "metadata": {},
   "source": [
    "SVM"
   ]
  },
  {
   "cell_type": "code",
   "execution_count": 60,
   "id": "3ee1fd68",
   "metadata": {},
   "outputs": [],
   "source": [
    "from sklearn.svm import SVR"
   ]
  },
  {
   "cell_type": "code",
   "execution_count": 61,
   "id": "237fe64f",
   "metadata": {},
   "outputs": [
    {
     "data": {
      "text/plain": [
       "SVR()"
      ]
     },
     "execution_count": 61,
     "metadata": {},
     "output_type": "execute_result"
    }
   ],
   "source": [
    "sv_reg = SVR(kernel = 'rbf')\n",
    "sv_reg.fit(concrete_prepared, concrete_labels)"
   ]
  },
  {
   "cell_type": "code",
   "execution_count": 62,
   "id": "be8136f7",
   "metadata": {},
   "outputs": [
    {
     "data": {
      "text/plain": [
       "9.544428652366054"
      ]
     },
     "execution_count": 62,
     "metadata": {},
     "output_type": "execute_result"
    }
   ],
   "source": [
    "concrete_predi = sv_reg.predict(concrete_prepared)\n",
    "sv_mse = mean_squared_error(concrete_labels, concrete_predi)\n",
    "sv_rmse = np.sqrt(sv_mse)\n",
    "sv_rmse"
   ]
  },
  {
   "cell_type": "code",
   "execution_count": 63,
   "id": "8374d0cb",
   "metadata": {},
   "outputs": [],
   "source": [
    "sv_scores = cross_val_score(sv_reg, concrete_prepared, concrete_labels, \n",
    "                         scoring=\"neg_mean_squared_error\", cv=10)\n",
    "sv_rmse_scores = np.sqrt(-sv_scores)"
   ]
  },
  {
   "cell_type": "code",
   "execution_count": 64,
   "id": "16d98c3e",
   "metadata": {},
   "outputs": [
    {
     "name": "stdout",
     "output_type": "stream",
     "text": [
      "Scores: [10.18193966 10.55105891  9.87227385  9.76795261  9.24903934  9.97144546\n",
      " 10.49293351  9.96622584 10.30945255 10.26549787]\n",
      "Mean: 10.06278195837328\n",
      "Standard deviation: 0.3664210144543127\n"
     ]
    }
   ],
   "source": [
    "display_scores(sv_rmse_scores)"
   ]
  },
  {
   "cell_type": "code",
   "execution_count": 65,
   "id": "47eb7273",
   "metadata": {},
   "outputs": [
    {
     "data": {
      "text/plain": [
       "SVR(kernel='linear')"
      ]
     },
     "execution_count": 65,
     "metadata": {},
     "output_type": "execute_result"
    }
   ],
   "source": [
    "sv_reg1 = SVR(kernel = 'linear')\n",
    "sv_reg1.fit(concrete_prepared, concrete_labels)"
   ]
  },
  {
   "cell_type": "code",
   "execution_count": 66,
   "id": "b42df0eb",
   "metadata": {},
   "outputs": [
    {
     "data": {
      "text/plain": [
       "10.565117373714948"
      ]
     },
     "execution_count": 66,
     "metadata": {},
     "output_type": "execute_result"
    }
   ],
   "source": [
    "concrete_predi = sv_reg1.predict(concrete_prepared)\n",
    "sv_mse1 = mean_squared_error(concrete_labels, concrete_predi)\n",
    "sv_rmse1 = np.sqrt(sv_mse1)\n",
    "sv_rmse1"
   ]
  },
  {
   "cell_type": "code",
   "execution_count": 67,
   "id": "18a0d239",
   "metadata": {},
   "outputs": [],
   "source": [
    "sv_scores1 = cross_val_score(sv_reg1, concrete_prepared, concrete_labels, \n",
    "                         scoring=\"neg_mean_squared_error\", cv=10)\n",
    "sv_rmse_scores1 = np.sqrt(-sv_scores1)"
   ]
  },
  {
   "cell_type": "code",
   "execution_count": 68,
   "id": "1061e12d",
   "metadata": {},
   "outputs": [
    {
     "name": "stdout",
     "output_type": "stream",
     "text": [
      "Scores: [11.31506107 10.74562441  9.54230053 10.44888725 13.05442156 11.6990056\n",
      " 10.5434773  10.63086754  9.81614702 10.80062472]\n",
      "Mean: 10.859641699294873\n",
      "Standard deviation: 0.9429085748686192\n"
     ]
    }
   ],
   "source": [
    "display_scores(sv_rmse_scores1)"
   ]
  },
  {
   "cell_type": "markdown",
   "id": "9bd07e41",
   "metadata": {},
   "source": [
    "Use Grid Search to find best hyperparameter for model fine tuning"
   ]
  },
  {
   "cell_type": "code",
   "execution_count": 69,
   "id": "941872ba",
   "metadata": {},
   "outputs": [],
   "source": [
    "from sklearn.model_selection import GridSearchCV"
   ]
  },
  {
   "cell_type": "code",
   "execution_count": 70,
   "id": "8ec965ae",
   "metadata": {},
   "outputs": [
    {
     "data": {
      "text/plain": [
       "GridSearchCV(cv=5, estimator=RandomForestRegressor(),\n",
       "             param_grid=[{'max_features': [2, 4, 6, 8],\n",
       "                          'n_estimators': [3, 10, 30]},\n",
       "                         {'bootstrap': [False], 'max_features': [2, 3, 4],\n",
       "                          'n_estimators': [3, 10]}],\n",
       "             return_train_score=True, scoring='neg_mean_squared_error')"
      ]
     },
     "execution_count": 70,
     "metadata": {},
     "output_type": "execute_result"
    }
   ],
   "source": [
    "param_grid = [\n",
    "{'n_estimators': [3, 10, 30], 'max_features': [2, 4, 6, 8]},\n",
    "{'bootstrap': [False], 'n_estimators': [3, 10], 'max_features': [2, 3, 4]},\n",
    "]\n",
    "forest_reg = RandomForestRegressor()\n",
    "grid_search = GridSearchCV(forest_reg, param_grid, cv=5,\n",
    "scoring='neg_mean_squared_error',\n",
    "return_train_score=True)\n",
    "grid_search.fit(concrete_prepared, concrete_labels)"
   ]
  },
  {
   "cell_type": "code",
   "execution_count": 71,
   "id": "3e725efa",
   "metadata": {},
   "outputs": [
    {
     "data": {
      "text/plain": [
       "{'bootstrap': False, 'max_features': 4, 'n_estimators': 10}"
      ]
     },
     "execution_count": 71,
     "metadata": {},
     "output_type": "execute_result"
    }
   ],
   "source": [
    "grid_search.best_params_"
   ]
  },
  {
   "cell_type": "code",
   "execution_count": 72,
   "id": "3b54d8bd",
   "metadata": {},
   "outputs": [
    {
     "data": {
      "text/plain": [
       "RandomForestRegressor(bootstrap=False, max_features=4, n_estimators=10)"
      ]
     },
     "execution_count": 72,
     "metadata": {},
     "output_type": "execute_result"
    }
   ],
   "source": [
    "grid_search.best_estimator_"
   ]
  },
  {
   "cell_type": "code",
   "execution_count": 73,
   "id": "890e4a57",
   "metadata": {},
   "outputs": [
    {
     "name": "stdout",
     "output_type": "stream",
     "text": [
      "7.396748063307774 {'max_features': 2, 'n_estimators': 3}\n",
      "6.28263421981414 {'max_features': 2, 'n_estimators': 10}\n",
      "5.892649135199112 {'max_features': 2, 'n_estimators': 30}\n",
      "5.985335842707705 {'max_features': 4, 'n_estimators': 3}\n",
      "5.521944155381456 {'max_features': 4, 'n_estimators': 10}\n",
      "5.1943128522012305 {'max_features': 4, 'n_estimators': 30}\n",
      "6.260316868169436 {'max_features': 6, 'n_estimators': 3}\n",
      "5.423926255705775 {'max_features': 6, 'n_estimators': 10}\n",
      "5.235757789982217 {'max_features': 6, 'n_estimators': 30}\n",
      "5.868129871152811 {'max_features': 8, 'n_estimators': 3}\n",
      "5.4028972202444505 {'max_features': 8, 'n_estimators': 10}\n",
      "5.305710173720705 {'max_features': 8, 'n_estimators': 30}\n",
      "6.883484240167545 {'bootstrap': False, 'max_features': 2, 'n_estimators': 3}\n",
      "5.7510372816400155 {'bootstrap': False, 'max_features': 2, 'n_estimators': 10}\n",
      "6.063097612476477 {'bootstrap': False, 'max_features': 3, 'n_estimators': 3}\n",
      "5.329520839165464 {'bootstrap': False, 'max_features': 3, 'n_estimators': 10}\n",
      "5.8222913261765346 {'bootstrap': False, 'max_features': 4, 'n_estimators': 3}\n",
      "5.163321066683622 {'bootstrap': False, 'max_features': 4, 'n_estimators': 10}\n"
     ]
    }
   ],
   "source": [
    "cvres = grid_search.cv_results_\n",
    "for mean_score, params in zip(cvres[\"mean_test_score\"], cvres[\"params\"]):\n",
    "    print(np.sqrt(-mean_score), params)"
   ]
  },
  {
   "cell_type": "code",
   "execution_count": 74,
   "id": "ded94038",
   "metadata": {},
   "outputs": [
    {
     "data": {
      "text/html": [
       "<div>\n",
       "<style scoped>\n",
       "    .dataframe tbody tr th:only-of-type {\n",
       "        vertical-align: middle;\n",
       "    }\n",
       "\n",
       "    .dataframe tbody tr th {\n",
       "        vertical-align: top;\n",
       "    }\n",
       "\n",
       "    .dataframe thead th {\n",
       "        text-align: right;\n",
       "    }\n",
       "</style>\n",
       "<table border=\"1\" class=\"dataframe\">\n",
       "  <thead>\n",
       "    <tr style=\"text-align: right;\">\n",
       "      <th></th>\n",
       "      <th>mean_fit_time</th>\n",
       "      <th>std_fit_time</th>\n",
       "      <th>mean_score_time</th>\n",
       "      <th>std_score_time</th>\n",
       "      <th>param_max_features</th>\n",
       "      <th>param_n_estimators</th>\n",
       "      <th>param_bootstrap</th>\n",
       "      <th>params</th>\n",
       "      <th>split0_test_score</th>\n",
       "      <th>split1_test_score</th>\n",
       "      <th>...</th>\n",
       "      <th>mean_test_score</th>\n",
       "      <th>std_test_score</th>\n",
       "      <th>rank_test_score</th>\n",
       "      <th>split0_train_score</th>\n",
       "      <th>split1_train_score</th>\n",
       "      <th>split2_train_score</th>\n",
       "      <th>split3_train_score</th>\n",
       "      <th>split4_train_score</th>\n",
       "      <th>mean_train_score</th>\n",
       "      <th>std_train_score</th>\n",
       "    </tr>\n",
       "  </thead>\n",
       "  <tbody>\n",
       "    <tr>\n",
       "      <th>0</th>\n",
       "      <td>0.008001</td>\n",
       "      <td>0.000895</td>\n",
       "      <td>0.0010</td>\n",
       "      <td>1.907349e-07</td>\n",
       "      <td>2</td>\n",
       "      <td>3</td>\n",
       "      <td>NaN</td>\n",
       "      <td>{'max_features': 2, 'n_estimators': 3}</td>\n",
       "      <td>-59.159527</td>\n",
       "      <td>-47.430135</td>\n",
       "      <td>...</td>\n",
       "      <td>-54.711882</td>\n",
       "      <td>3.954373</td>\n",
       "      <td>18</td>\n",
       "      <td>-13.562138</td>\n",
       "      <td>-16.937152</td>\n",
       "      <td>-18.723080</td>\n",
       "      <td>-15.574608</td>\n",
       "      <td>-16.411511</td>\n",
       "      <td>-16.241698</td>\n",
       "      <td>1.690846</td>\n",
       "    </tr>\n",
       "    <tr>\n",
       "      <th>1</th>\n",
       "      <td>0.022001</td>\n",
       "      <td>0.001674</td>\n",
       "      <td>0.0020</td>\n",
       "      <td>0.000000e+00</td>\n",
       "      <td>2</td>\n",
       "      <td>10</td>\n",
       "      <td>NaN</td>\n",
       "      <td>{'max_features': 2, 'n_estimators': 10}</td>\n",
       "      <td>-44.236675</td>\n",
       "      <td>-31.019728</td>\n",
       "      <td>...</td>\n",
       "      <td>-39.471493</td>\n",
       "      <td>5.221090</td>\n",
       "      <td>16</td>\n",
       "      <td>-7.312878</td>\n",
       "      <td>-8.173349</td>\n",
       "      <td>-8.312795</td>\n",
       "      <td>-9.148360</td>\n",
       "      <td>-7.990845</td>\n",
       "      <td>-8.187645</td>\n",
       "      <td>0.590388</td>\n",
       "    </tr>\n",
       "    <tr>\n",
       "      <th>2</th>\n",
       "      <td>0.057603</td>\n",
       "      <td>0.000800</td>\n",
       "      <td>0.0042</td>\n",
       "      <td>3.999472e-04</td>\n",
       "      <td>2</td>\n",
       "      <td>30</td>\n",
       "      <td>NaN</td>\n",
       "      <td>{'max_features': 2, 'n_estimators': 30}</td>\n",
       "      <td>-40.743995</td>\n",
       "      <td>-26.563275</td>\n",
       "      <td>...</td>\n",
       "      <td>-34.723314</td>\n",
       "      <td>5.597927</td>\n",
       "      <td>12</td>\n",
       "      <td>-5.489483</td>\n",
       "      <td>-6.024102</td>\n",
       "      <td>-6.101375</td>\n",
       "      <td>-6.942474</td>\n",
       "      <td>-6.339935</td>\n",
       "      <td>-6.179474</td>\n",
       "      <td>0.472069</td>\n",
       "    </tr>\n",
       "    <tr>\n",
       "      <th>3</th>\n",
       "      <td>0.007800</td>\n",
       "      <td>0.000400</td>\n",
       "      <td>0.0010</td>\n",
       "      <td>9.536743e-08</td>\n",
       "      <td>4</td>\n",
       "      <td>3</td>\n",
       "      <td>NaN</td>\n",
       "      <td>{'max_features': 4, 'n_estimators': 3}</td>\n",
       "      <td>-42.611389</td>\n",
       "      <td>-32.366174</td>\n",
       "      <td>...</td>\n",
       "      <td>-35.824245</td>\n",
       "      <td>3.917791</td>\n",
       "      <td>13</td>\n",
       "      <td>-12.569910</td>\n",
       "      <td>-12.103647</td>\n",
       "      <td>-10.150751</td>\n",
       "      <td>-10.892779</td>\n",
       "      <td>-9.415418</td>\n",
       "      <td>-11.026501</td>\n",
       "      <td>1.176670</td>\n",
       "    </tr>\n",
       "    <tr>\n",
       "      <th>4</th>\n",
       "      <td>0.023602</td>\n",
       "      <td>0.000490</td>\n",
       "      <td>0.0020</td>\n",
       "      <td>1.168008e-07</td>\n",
       "      <td>4</td>\n",
       "      <td>10</td>\n",
       "      <td>NaN</td>\n",
       "      <td>{'max_features': 4, 'n_estimators': 10}</td>\n",
       "      <td>-38.604627</td>\n",
       "      <td>-26.753713</td>\n",
       "      <td>...</td>\n",
       "      <td>-30.491867</td>\n",
       "      <td>4.715930</td>\n",
       "      <td>8</td>\n",
       "      <td>-5.524748</td>\n",
       "      <td>-7.365561</td>\n",
       "      <td>-5.597957</td>\n",
       "      <td>-7.373802</td>\n",
       "      <td>-6.655293</td>\n",
       "      <td>-6.503472</td>\n",
       "      <td>0.812598</td>\n",
       "    </tr>\n",
       "  </tbody>\n",
       "</table>\n",
       "<p>5 rows × 23 columns</p>\n",
       "</div>"
      ],
      "text/plain": [
       "   mean_fit_time  std_fit_time  mean_score_time  std_score_time  \\\n",
       "0       0.008001      0.000895           0.0010    1.907349e-07   \n",
       "1       0.022001      0.001674           0.0020    0.000000e+00   \n",
       "2       0.057603      0.000800           0.0042    3.999472e-04   \n",
       "3       0.007800      0.000400           0.0010    9.536743e-08   \n",
       "4       0.023602      0.000490           0.0020    1.168008e-07   \n",
       "\n",
       "  param_max_features param_n_estimators param_bootstrap  \\\n",
       "0                  2                  3             NaN   \n",
       "1                  2                 10             NaN   \n",
       "2                  2                 30             NaN   \n",
       "3                  4                  3             NaN   \n",
       "4                  4                 10             NaN   \n",
       "\n",
       "                                    params  split0_test_score  \\\n",
       "0   {'max_features': 2, 'n_estimators': 3}         -59.159527   \n",
       "1  {'max_features': 2, 'n_estimators': 10}         -44.236675   \n",
       "2  {'max_features': 2, 'n_estimators': 30}         -40.743995   \n",
       "3   {'max_features': 4, 'n_estimators': 3}         -42.611389   \n",
       "4  {'max_features': 4, 'n_estimators': 10}         -38.604627   \n",
       "\n",
       "   split1_test_score  ...  mean_test_score  std_test_score  rank_test_score  \\\n",
       "0         -47.430135  ...       -54.711882        3.954373               18   \n",
       "1         -31.019728  ...       -39.471493        5.221090               16   \n",
       "2         -26.563275  ...       -34.723314        5.597927               12   \n",
       "3         -32.366174  ...       -35.824245        3.917791               13   \n",
       "4         -26.753713  ...       -30.491867        4.715930                8   \n",
       "\n",
       "   split0_train_score  split1_train_score  split2_train_score  \\\n",
       "0          -13.562138          -16.937152          -18.723080   \n",
       "1           -7.312878           -8.173349           -8.312795   \n",
       "2           -5.489483           -6.024102           -6.101375   \n",
       "3          -12.569910          -12.103647          -10.150751   \n",
       "4           -5.524748           -7.365561           -5.597957   \n",
       "\n",
       "   split3_train_score  split4_train_score  mean_train_score  std_train_score  \n",
       "0          -15.574608          -16.411511        -16.241698         1.690846  \n",
       "1           -9.148360           -7.990845         -8.187645         0.590388  \n",
       "2           -6.942474           -6.339935         -6.179474         0.472069  \n",
       "3          -10.892779           -9.415418        -11.026501         1.176670  \n",
       "4           -7.373802           -6.655293         -6.503472         0.812598  \n",
       "\n",
       "[5 rows x 23 columns]"
      ]
     },
     "execution_count": 74,
     "metadata": {},
     "output_type": "execute_result"
    }
   ],
   "source": [
    "pd.DataFrame(grid_search.cv_results_).head()"
   ]
  },
  {
   "cell_type": "code",
   "execution_count": 75,
   "id": "673ef968",
   "metadata": {},
   "outputs": [
    {
     "data": {
      "text/plain": [
       "array([0.03099813, 0.02012745, 0.00812551, 0.05668855, 0.02494396,\n",
       "       0.01519725, 0.0150378 , 0.35373044, 0.11604784, 0.23061556,\n",
       "       0.1284875 ])"
      ]
     },
     "execution_count": 75,
     "metadata": {},
     "output_type": "execute_result"
    }
   ],
   "source": [
    "feature_importances = grid_search.best_estimator_.feature_importances_\n",
    "feature_importances"
   ]
  },
  {
   "cell_type": "code",
   "execution_count": 76,
   "id": "b94484a3",
   "metadata": {},
   "outputs": [
    {
     "data": {
      "text/plain": [
       "[(0.3537304384458513, 'age'),\n",
       " (0.23061556166145536, '(w/z)eq'),\n",
       " (0.12848750116171304, '(w/z)eq with PCE'),\n",
       " (0.11604783766197173, 'CEM III'),\n",
       " (0.0566885504312036, 'water'),\n",
       " (0.030998134207814637, 'cement'),\n",
       " (0.024943958173195675, 'superplastic'),\n",
       " (0.020127449235954963, 'slag'),\n",
       " (0.01519725311815259, 'coarseagg'),\n",
       " (0.01503780185609616, 'fineagg'),\n",
       " (0.008125514046591013, 'ash')]"
      ]
     },
     "execution_count": 76,
     "metadata": {},
     "output_type": "execute_result"
    }
   ],
   "source": [
    "extra_attribs = [\"(w/z)eq with PCE\"]\n",
    "#cat_encoder = full_pipeline.named_transformers_[\"num\"]\n",
    "#cat_one_hot_attribs = list(cat_encoder.categories_[0])\n",
    "attributes = num_attribs + extra_attribs\n",
    "sorted(zip(feature_importances, attributes), reverse=True)"
   ]
  },
  {
   "cell_type": "markdown",
   "id": "bce35f95",
   "metadata": {},
   "source": [
    "Run Randomized Search to find best hyperparameter for model fine tuning"
   ]
  },
  {
   "cell_type": "code",
   "execution_count": 77,
   "id": "4d910167",
   "metadata": {},
   "outputs": [],
   "source": [
    "from sklearn.model_selection import RandomizedSearchCV\n",
    "from scipy.stats import randint"
   ]
  },
  {
   "cell_type": "code",
   "execution_count": 78,
   "id": "69eedad7",
   "metadata": {},
   "outputs": [
    {
     "data": {
      "text/plain": [
       "RandomizedSearchCV(cv=5, estimator=RandomForestRegressor(random_state=42),\n",
       "                   param_distributions={'max_features': <scipy.stats._distn_infrastructure.rv_frozen object at 0x000000000B8A04F0>,\n",
       "                                        'n_estimators': <scipy.stats._distn_infrastructure.rv_frozen object at 0x000000000EF88400>},\n",
       "                   random_state=42, scoring='neg_mean_squared_error')"
      ]
     },
     "execution_count": 78,
     "metadata": {},
     "output_type": "execute_result"
    }
   ],
   "source": [
    "param_distribs = {\n",
    "        'n_estimators': randint(low=1, high=200),\n",
    "        'max_features': randint(low=1, high=8),\n",
    "    }\n",
    "\n",
    "forest_reg = RandomForestRegressor(random_state=42)\n",
    "rnd_search = RandomizedSearchCV(forest_reg, param_distributions=param_distribs,\n",
    "                                n_iter=10, cv=5, scoring='neg_mean_squared_error', random_state=42)\n",
    "rnd_search.fit(concrete_prepared, concrete_labels)"
   ]
  },
  {
   "cell_type": "code",
   "execution_count": 80,
   "id": "b622d587",
   "metadata": {},
   "outputs": [
    {
     "data": {
      "text/plain": [
       "RandomForestRegressor(bootstrap=False, max_features=4, n_estimators=10)"
      ]
     },
     "execution_count": 80,
     "metadata": {},
     "output_type": "execute_result"
    }
   ],
   "source": [
    "grid_search.best_estimator_"
   ]
  },
  {
   "cell_type": "code",
   "execution_count": 81,
   "id": "11026378",
   "metadata": {},
   "outputs": [
    {
     "name": "stdout",
     "output_type": "stream",
     "text": [
      "5.141094595380975 {'max_features': 7, 'n_estimators': 180}\n",
      "5.218552127884204 {'max_features': 5, 'n_estimators': 15}\n",
      "5.231280490643911 {'max_features': 3, 'n_estimators': 72}\n",
      "5.192165315957373 {'max_features': 5, 'n_estimators': 21}\n",
      "5.158785508767554 {'max_features': 7, 'n_estimators': 122}\n",
      "5.211228545395396 {'max_features': 3, 'n_estimators': 75}\n",
      "5.240061654177894 {'max_features': 3, 'n_estimators': 88}\n",
      "5.144858656624691 {'max_features': 5, 'n_estimators': 100}\n",
      "5.225180928599851 {'max_features': 3, 'n_estimators': 150}\n",
      "6.437040163064209 {'max_features': 5, 'n_estimators': 2}\n"
     ]
    }
   ],
   "source": [
    "cvres = rnd_search.cv_results_\n",
    "for mean_score, params in zip(cvres[\"mean_test_score\"], cvres[\"params\"]):\n",
    "    print(np.sqrt(-mean_score), params)"
   ]
  },
  {
   "cell_type": "code",
   "execution_count": 85,
   "id": "fff2b7c2",
   "metadata": {},
   "outputs": [
    {
     "data": {
      "text/plain": [
       "array([0.03321227, 0.01781104, 0.00645712, 0.02171853, 0.01894036,\n",
       "       0.01340614, 0.01665117, 0.36764126, 0.03942768, 0.30832937,\n",
       "       0.15640505])"
      ]
     },
     "execution_count": 85,
     "metadata": {},
     "output_type": "execute_result"
    }
   ],
   "source": [
    "feature_importances1 = rnd_search.best_estimator_.feature_importances_\n",
    "feature_importances1"
   ]
  },
  {
   "cell_type": "code",
   "execution_count": 86,
   "id": "eb0c0db6",
   "metadata": {},
   "outputs": [
    {
     "data": {
      "text/plain": [
       "[(0.36764126190851804, 'age'),\n",
       " (0.3083293709660524, '(w/z)eq'),\n",
       " (0.15640504672062078, '(w/z)eq with PCE'),\n",
       " (0.03942768473352841, 'CEM III'),\n",
       " (0.033212272031964044, 'cement'),\n",
       " (0.021718525646314414, 'water'),\n",
       " (0.01894036044796242, 'superplastic'),\n",
       " (0.017811040933529337, 'slag'),\n",
       " (0.01665117288015912, 'fineagg'),\n",
       " (0.013406143568942019, 'coarseagg'),\n",
       " (0.0064571201624091116, 'ash')]"
      ]
     },
     "execution_count": 86,
     "metadata": {},
     "output_type": "execute_result"
    }
   ],
   "source": [
    "extra_attribs = [\"(w/z)eq with PCE\"]\n",
    "#cat_encoder = full_pipeline.named_transformers_[\"num\"]\n",
    "#cat_one_hot_attribs = list(cat_encoder.categories_[0])\n",
    "attributes = num_attribs + extra_attribs\n",
    "sorted(zip(feature_importances1, attributes), reverse=True)"
   ]
  },
  {
   "cell_type": "markdown",
   "id": "933faa1e",
   "metadata": {},
   "source": [
    "Finally: Test model on test set with grid search best hyperparameter estimator"
   ]
  },
  {
   "cell_type": "code",
   "execution_count": 87,
   "id": "89859512",
   "metadata": {},
   "outputs": [
    {
     "data": {
      "text/html": [
       "<div>\n",
       "<style scoped>\n",
       "    .dataframe tbody tr th:only-of-type {\n",
       "        vertical-align: middle;\n",
       "    }\n",
       "\n",
       "    .dataframe tbody tr th {\n",
       "        vertical-align: top;\n",
       "    }\n",
       "\n",
       "    .dataframe thead th {\n",
       "        text-align: right;\n",
       "    }\n",
       "</style>\n",
       "<table border=\"1\" class=\"dataframe\">\n",
       "  <thead>\n",
       "    <tr style=\"text-align: right;\">\n",
       "      <th></th>\n",
       "      <th>cement</th>\n",
       "      <th>slag</th>\n",
       "      <th>ash</th>\n",
       "      <th>water</th>\n",
       "      <th>superplastic</th>\n",
       "      <th>coarseagg</th>\n",
       "      <th>fineagg</th>\n",
       "      <th>age</th>\n",
       "      <th>strength</th>\n",
       "      <th>CEM III</th>\n",
       "      <th>(w/z)eq</th>\n",
       "    </tr>\n",
       "  </thead>\n",
       "  <tbody>\n",
       "    <tr>\n",
       "      <th>775</th>\n",
       "      <td>275.0</td>\n",
       "      <td>0.0</td>\n",
       "      <td>0.0</td>\n",
       "      <td>183.0</td>\n",
       "      <td>0.0</td>\n",
       "      <td>1088.0</td>\n",
       "      <td>808.0</td>\n",
       "      <td>28</td>\n",
       "      <td>24.50</td>\n",
       "      <td>275.0</td>\n",
       "      <td>0.665455</td>\n",
       "    </tr>\n",
       "    <tr>\n",
       "      <th>778</th>\n",
       "      <td>314.0</td>\n",
       "      <td>0.0</td>\n",
       "      <td>113.0</td>\n",
       "      <td>170.0</td>\n",
       "      <td>10.0</td>\n",
       "      <td>925.0</td>\n",
       "      <td>783.0</td>\n",
       "      <td>28</td>\n",
       "      <td>38.46</td>\n",
       "      <td>314.0</td>\n",
       "      <td>0.473274</td>\n",
       "    </tr>\n",
       "    <tr>\n",
       "      <th>592</th>\n",
       "      <td>238.1</td>\n",
       "      <td>0.0</td>\n",
       "      <td>0.0</td>\n",
       "      <td>185.7</td>\n",
       "      <td>0.0</td>\n",
       "      <td>1118.8</td>\n",
       "      <td>789.3</td>\n",
       "      <td>7</td>\n",
       "      <td>10.34</td>\n",
       "      <td>238.1</td>\n",
       "      <td>0.779924</td>\n",
       "    </tr>\n",
       "    <tr>\n",
       "      <th>247</th>\n",
       "      <td>213.7</td>\n",
       "      <td>0.0</td>\n",
       "      <td>174.7</td>\n",
       "      <td>154.8</td>\n",
       "      <td>10.2</td>\n",
       "      <td>1053.5</td>\n",
       "      <td>776.4</td>\n",
       "      <td>28</td>\n",
       "      <td>40.15</td>\n",
       "      <td>213.7</td>\n",
       "      <td>0.545878</td>\n",
       "    </tr>\n",
       "    <tr>\n",
       "      <th>513</th>\n",
       "      <td>164.0</td>\n",
       "      <td>0.0</td>\n",
       "      <td>200.0</td>\n",
       "      <td>181.0</td>\n",
       "      <td>13.0</td>\n",
       "      <td>849.0</td>\n",
       "      <td>846.0</td>\n",
       "      <td>28</td>\n",
       "      <td>15.09</td>\n",
       "      <td>164.0</td>\n",
       "      <td>0.741803</td>\n",
       "    </tr>\n",
       "  </tbody>\n",
       "</table>\n",
       "</div>"
      ],
      "text/plain": [
       "     cement  slag    ash  water  superplastic  coarseagg  fineagg  age  \\\n",
       "775   275.0   0.0    0.0  183.0           0.0     1088.0    808.0   28   \n",
       "778   314.0   0.0  113.0  170.0          10.0      925.0    783.0   28   \n",
       "592   238.1   0.0    0.0  185.7           0.0     1118.8    789.3    7   \n",
       "247   213.7   0.0  174.7  154.8          10.2     1053.5    776.4   28   \n",
       "513   164.0   0.0  200.0  181.0          13.0      849.0    846.0   28   \n",
       "\n",
       "     strength  CEM III   (w/z)eq  \n",
       "775     24.50    275.0  0.665455  \n",
       "778     38.46    314.0  0.473274  \n",
       "592     10.34    238.1  0.779924  \n",
       "247     40.15    213.7  0.545878  \n",
       "513     15.09    164.0  0.741803  "
      ]
     },
     "execution_count": 87,
     "metadata": {},
     "output_type": "execute_result"
    }
   ],
   "source": [
    "strat_test_set.head()"
   ]
  },
  {
   "cell_type": "code",
   "execution_count": 88,
   "id": "62934940",
   "metadata": {},
   "outputs": [],
   "source": [
    "final_model = grid_search.best_estimator_\n",
    "X_test = strat_test_set.drop(\"strength\", axis=1)\n",
    "y_test = strat_test_set[\"strength\"].copy()\n",
    "X_test_prepared = full_pipeline.transform(X_test)\n",
    "final_predictions = final_model.predict(X_test_prepared)\n",
    "final_mse = mean_squared_error(y_test, final_predictions)\n",
    "final_rmse = np.sqrt(final_mse)"
   ]
  },
  {
   "cell_type": "code",
   "execution_count": 89,
   "id": "030ba732",
   "metadata": {},
   "outputs": [
    {
     "data": {
      "text/plain": [
       "4.999546256596158"
      ]
     },
     "execution_count": 89,
     "metadata": {},
     "output_type": "execute_result"
    }
   ],
   "source": [
    "final_rmse"
   ]
  },
  {
   "cell_type": "code",
   "execution_count": 90,
   "id": "12bf5a8b",
   "metadata": {},
   "outputs": [],
   "source": [
    "from scipy import stats"
   ]
  },
  {
   "cell_type": "code",
   "execution_count": 91,
   "id": "ab773268",
   "metadata": {},
   "outputs": [
    {
     "data": {
      "text/plain": [
       "array([4.14949343, 5.7247384 ])"
      ]
     },
     "execution_count": 91,
     "metadata": {},
     "output_type": "execute_result"
    }
   ],
   "source": [
    "confidence = 0.95\n",
    "squared_errors = (final_predictions - y_test) ** 2\n",
    "np.sqrt(stats.t.interval(confidence, len(squared_errors) - 1,\n",
    "loc=squared_errors.mean(),\n",
    "scale=stats.sem(squared_errors)))"
   ]
  },
  {
   "cell_type": "markdown",
   "id": "b428ada3",
   "metadata": {},
   "source": [
    "Fine-tuning and other Regressions"
   ]
  },
  {
   "cell_type": "markdown",
   "id": "1869e8f3",
   "metadata": {},
   "source": [
    "KNN Regression"
   ]
  },
  {
   "cell_type": "code",
   "execution_count": 92,
   "id": "339b3a4a",
   "metadata": {},
   "outputs": [],
   "source": [
    "from sklearn.neighbors import KNeighborsRegressor"
   ]
  },
  {
   "cell_type": "code",
   "execution_count": 93,
   "id": "2c8387e9",
   "metadata": {},
   "outputs": [
    {
     "data": {
      "text/plain": [
       "KNeighborsRegressor()"
      ]
     },
     "execution_count": 93,
     "metadata": {},
     "output_type": "execute_result"
    }
   ],
   "source": [
    "knn_reg = KNeighborsRegressor(n_neighbors = 5)\n",
    "knn_reg.fit(concrete_prepared, concrete_labels)"
   ]
  },
  {
   "cell_type": "code",
   "execution_count": 94,
   "id": "afd24e23",
   "metadata": {},
   "outputs": [
    {
     "data": {
      "text/plain": [
       "7.281511014239108"
      ]
     },
     "execution_count": 94,
     "metadata": {},
     "output_type": "execute_result"
    }
   ],
   "source": [
    "concrete_pred = knn_reg.predict(concrete_prepared)\n",
    "knn_mse = mean_squared_error(concrete_labels, concrete_pred)\n",
    "knn_rmse = np.sqrt(knn_mse)\n",
    "knn_rmse"
   ]
  },
  {
   "cell_type": "code",
   "execution_count": 95,
   "id": "30a51c58",
   "metadata": {},
   "outputs": [],
   "source": [
    "knn_scores = cross_val_score(knn_reg, concrete_prepared, concrete_labels, \n",
    "                         scoring=\"neg_mean_squared_error\", cv=10)\n",
    "knn_rmse_scores = np.sqrt(-knn_scores)"
   ]
  },
  {
   "cell_type": "code",
   "execution_count": 96,
   "id": "bcf4d2cd",
   "metadata": {},
   "outputs": [
    {
     "name": "stdout",
     "output_type": "stream",
     "text": [
      "Scores: [ 8.91369331  8.74797502  9.1396905   9.15288504  9.12103852  9.34901352\n",
      " 10.61417523  8.49692863  9.22408939  9.40105334]\n",
      "Mean: 9.216054247749554\n",
      "Standard deviation: 0.5341555382420201\n"
     ]
    }
   ],
   "source": [
    "display_scores(knn_rmse_scores)"
   ]
  },
  {
   "cell_type": "code",
   "execution_count": 97,
   "id": "0b8fe875",
   "metadata": {},
   "outputs": [],
   "source": [
    "def plot_complexity_curve(k_list, knn_model, x_train, x_test, y_train, y_test):\n",
    "    \n",
    "    train_scores = []\n",
    "    test_scores = []\n",
    "    \n",
    "    # For each k\n",
    "    for k in k_list:\n",
    "        # Initialize, fit, predict\n",
    "        knn = knn_model(k)\n",
    "        \n",
    "        knn.fit(x_train, y_train)\n",
    "        \n",
    "        train_scores.append(knn.score(x_train, y_train))\n",
    "        test_scores.append(knn.score(x_test, y_test))\n",
    "\n",
    "    # Plot\n",
    "    fig, ax = plt.subplots(figsize=(10,6))\n",
    "    \n",
    "    ax.plot(k_list, train_scores, label='Training Accuracy', color='red')\n",
    "    ax.plot(k_list, test_scores, label='Testing Accuracy', color='black')\n",
    "    \n",
    "    ax.set(title='k-NN with Different Values for $k$',\n",
    "           xlabel='Number of Neighbors',\n",
    "           ylabel='Accuracy')\n",
    "    \n",
    "    ax.legend()"
   ]
  },
  {
   "cell_type": "code",
   "execution_count": 98,
   "id": "07353b57",
   "metadata": {},
   "outputs": [
    {
     "data": {
      "image/png": "[encoded data removed]",
      "text/plain": [
       "<Figure size 720x432 with 1 Axes>"
      ]
     },
     "metadata": {
      "needs_background": "light"
     },
     "output_type": "display_data"
    }
   ],
   "source": [
    "neighbors = np.arange(1, 15)\n",
    "\n",
    "plot_complexity_curve(neighbors, KNeighborsRegressor, \n",
    "                    concrete_prepared, X_test_prepared, concrete_labels, y_test)"
   ]
  },
  {
   "cell_type": "markdown",
   "id": "2c1c9d99",
   "metadata": {},
   "source": [
    "k = 4 and 5 give the best score!"
   ]
  },
  {
   "cell_type": "markdown",
   "id": "77ea10f9",
   "metadata": {},
   "source": [
    "**Fine-tune the model**"
   ]
  },
  {
   "cell_type": "markdown",
   "id": "4f650bd7",
   "metadata": {},
   "source": [
    "Remove non-important attributes from model"
   ]
  },
  {
   "cell_type": "code",
   "execution_count": 99,
   "id": "7e0d487c",
   "metadata": {},
   "outputs": [],
   "source": [
    "#remove (w/z)eq with PCE', ash, coarse aggregate and slag from feature matrix\n",
    "\n",
    "class AttributesRemover(BaseEstimator, TransformerMixin):\n",
    "    def __init__(self, columns): # no *args or **kargs\n",
    "        self.columns = columns\n",
    "        \n",
    "    def fit(self, X, y=None):\n",
    "        return self # nothing else to do\n",
    "    \n",
    "    def transform(self, X, y=None):\n",
    "        return X.drop(self.columns, axis=1) "
   ]
  },
  {
   "cell_type": "code",
   "execution_count": 100,
   "id": "01b3ac7f",
   "metadata": {},
   "outputs": [],
   "source": [
    "num_pipeline1 = Pipeline([\n",
    "    ('attribs_remover', AttributesRemover(['ash', 'slag', 'coarseagg']))])"
   ]
  },
  {
   "cell_type": "code",
   "execution_count": 101,
   "id": "cd79742a",
   "metadata": {},
   "outputs": [
    {
     "data": {
      "text/html": [
       "<div>\n",
       "<style scoped>\n",
       "    .dataframe tbody tr th:only-of-type {\n",
       "        vertical-align: middle;\n",
       "    }\n",
       "\n",
       "    .dataframe tbody tr th {\n",
       "        vertical-align: top;\n",
       "    }\n",
       "\n",
       "    .dataframe thead th {\n",
       "        text-align: right;\n",
       "    }\n",
       "</style>\n",
       "<table border=\"1\" class=\"dataframe\">\n",
       "  <thead>\n",
       "    <tr style=\"text-align: right;\">\n",
       "      <th></th>\n",
       "      <th>cement</th>\n",
       "      <th>water</th>\n",
       "      <th>superplastic</th>\n",
       "      <th>fineagg</th>\n",
       "      <th>age</th>\n",
       "      <th>CEM III</th>\n",
       "      <th>(w/z)eq</th>\n",
       "    </tr>\n",
       "  </thead>\n",
       "  <tbody>\n",
       "    <tr>\n",
       "      <th>568</th>\n",
       "      <td>251.4</td>\n",
       "      <td>188.5</td>\n",
       "      <td>6.4</td>\n",
       "      <td>757.7</td>\n",
       "      <td>3</td>\n",
       "      <td>251.4</td>\n",
       "      <td>0.631026</td>\n",
       "    </tr>\n",
       "    <tr>\n",
       "      <th>566</th>\n",
       "      <td>144.0</td>\n",
       "      <td>178.0</td>\n",
       "      <td>7.0</td>\n",
       "      <td>774.0</td>\n",
       "      <td>28</td>\n",
       "      <td>280.0</td>\n",
       "      <td>0.552109</td>\n",
       "    </tr>\n",
       "    <tr>\n",
       "      <th>462</th>\n",
       "      <td>168.0</td>\n",
       "      <td>121.8</td>\n",
       "      <td>5.7</td>\n",
       "      <td>780.1</td>\n",
       "      <td>100</td>\n",
       "      <td>210.1</td>\n",
       "      <td>0.441913</td>\n",
       "    </tr>\n",
       "    <tr>\n",
       "      <th>732</th>\n",
       "      <td>540.0</td>\n",
       "      <td>162.0</td>\n",
       "      <td>2.5</td>\n",
       "      <td>676.0</td>\n",
       "      <td>28</td>\n",
       "      <td>540.0</td>\n",
       "      <td>0.300000</td>\n",
       "    </tr>\n",
       "    <tr>\n",
       "      <th>436</th>\n",
       "      <td>446.0</td>\n",
       "      <td>162.0</td>\n",
       "      <td>10.3</td>\n",
       "      <td>712.0</td>\n",
       "      <td>28</td>\n",
       "      <td>470.0</td>\n",
       "      <td>0.322967</td>\n",
       "    </tr>\n",
       "  </tbody>\n",
       "</table>\n",
       "</div>"
      ],
      "text/plain": [
       "     cement  water  superplastic  fineagg  age  CEM III   (w/z)eq\n",
       "568   251.4  188.5           6.4    757.7    3    251.4  0.631026\n",
       "566   144.0  178.0           7.0    774.0   28    280.0  0.552109\n",
       "462   168.0  121.8           5.7    780.1  100    210.1  0.441913\n",
       "732   540.0  162.0           2.5    676.0   28    540.0  0.300000\n",
       "436   446.0  162.0          10.3    712.0   28    470.0  0.322967"
      ]
     },
     "execution_count": 101,
     "metadata": {},
     "output_type": "execute_result"
    }
   ],
   "source": [
    "concrete_new = num_pipeline1.fit_transform(concrete)\n",
    "concrete_new.head()"
   ]
  },
  {
   "cell_type": "markdown",
   "id": "357adb6e",
   "metadata": {},
   "source": [
    "Outlier Removal"
   ]
  },
  {
   "cell_type": "code",
   "execution_count": 102,
   "id": "a81f0e94",
   "metadata": {},
   "outputs": [],
   "source": [
    "class OutlierRemover(BaseEstimator,TransformerMixin):\n",
    "    def __init__(self,factor=1.5):\n",
    "        self.factor = factor\n",
    "        \n",
    "    def outlier_detector(self,X,y=None):\n",
    "        X = pd.Series(X).copy()\n",
    "        q1 = X.quantile(0.25)\n",
    "        q3 = X.quantile(0.75)\n",
    "        iqr = q3 - q1\n",
    "        self.lower_bound.append(q1 - (self.factor * iqr))\n",
    "        self.upper_bound.append(q3 + (self.factor * iqr))\n",
    "\n",
    "    def fit(self,X,y=None):\n",
    "        self.lower_bound = []\n",
    "        self.upper_bound = []\n",
    "        X.apply(self.outlier_detector)\n",
    "        return self\n",
    "    \n",
    "    def transform(self,X,y=None):\n",
    "        X = pd.DataFrame(X).copy()\n",
    "        for i in range(X.shape[1]):\n",
    "            x = X.iloc[:, i].copy()\n",
    "            x[(x < self.lower_bound[i]) | (x > self.upper_bound[i])] = np.nan\n",
    "            X.iloc[:, i] = x\n",
    "        return X\n",
    "    \n",
    "outlier_remover = OutlierRemover(factor=1.5)"
   ]
  },
  {
   "cell_type": "code",
   "execution_count": 103,
   "id": "29a73617",
   "metadata": {},
   "outputs": [],
   "source": [
    "num_pipeline2 = Pipeline([\n",
    "    ('outlier', OutlierRemover()),\n",
    "    ('imputer', SimpleImputer(strategy='median')),\n",
    "    ('std_scaler', StandardScaler()),\n",
    "])"
   ]
  },
  {
   "cell_type": "code",
   "execution_count": 104,
   "id": "bdafe3ff",
   "metadata": {},
   "outputs": [],
   "source": [
    "concrete_tr1 = num_pipeline2.fit_transform(concrete_new)"
   ]
  },
  {
   "cell_type": "code",
   "execution_count": 105,
   "id": "cfe28a02",
   "metadata": {},
   "outputs": [
    {
     "data": {
      "text/plain": [
       "False"
      ]
     },
     "execution_count": 105,
     "metadata": {},
     "output_type": "execute_result"
    }
   ],
   "source": [
    "np.isnan(concrete_tr1).any()"
   ]
  },
  {
   "cell_type": "code",
   "execution_count": 106,
   "id": "1352b473",
   "metadata": {},
   "outputs": [
    {
     "data": {
      "text/plain": [
       "array([-0.25984465,  0.31109858,  0.08116533, -0.17985952, -1.05326765,\n",
       "       -0.90734446,  0.75498946])"
      ]
     },
     "execution_count": 106,
     "metadata": {},
     "output_type": "execute_result"
    }
   ],
   "source": [
    "num_attribs1 = list(concrete_new)\n",
    "#cat_attribs = [\"ocean_proximity\"]\n",
    "full_pipeline1 = ColumnTransformer([\n",
    "    (\"num\", num_pipeline2, num_attribs1)\n",
    "])\n",
    "concrete_prepared_new = full_pipeline1.fit_transform(concrete_new)\n",
    "concrete_prepared_new[0]"
   ]
  },
  {
   "cell_type": "code",
   "execution_count": 107,
   "id": "327f27f2",
   "metadata": {},
   "outputs": [],
   "source": [
    "full_pipeline_with_predictor = Pipeline([\n",
    "        (\"preparation\", full_pipeline1),\n",
    "        (\"linear\", LinearRegression())\n",
    "    ])\n",
    "\n",
    "full_pipeline_with_predictor.fit(concrete_new, concrete_labels)\n",
    "concrete_pre = full_pipeline_with_predictor.predict(concrete_new)"
   ]
  },
  {
   "cell_type": "code",
   "execution_count": 108,
   "id": "a461e4bf",
   "metadata": {},
   "outputs": [
    {
     "data": {
      "text/plain": [
       "8.944345282913426"
      ]
     },
     "execution_count": 108,
     "metadata": {},
     "output_type": "execute_result"
    }
   ],
   "source": [
    "linreg_mse = mean_squared_error(concrete_labels, concrete_pre)\n",
    "linreg_rmse = np.sqrt(linreg_mse)\n",
    "linreg_rmse"
   ]
  },
  {
   "cell_type": "markdown",
   "id": "c5eb5599",
   "metadata": {},
   "source": [
    "Random Search with Forest Regressor on new tuned dataset (transformer)"
   ]
  },
  {
   "cell_type": "code",
   "execution_count": 109,
   "id": "e3cf8a10",
   "metadata": {},
   "outputs": [
    {
     "data": {
      "text/plain": [
       "RandomForestRegressor()"
      ]
     },
     "execution_count": 109,
     "metadata": {},
     "output_type": "execute_result"
    }
   ],
   "source": [
    "forest_reg1 = RandomForestRegressor()\n",
    "forest_reg1.fit(concrete_prepared_new, concrete_labels)"
   ]
  },
  {
   "cell_type": "code",
   "execution_count": 110,
   "id": "9a0d29fb",
   "metadata": {},
   "outputs": [
    {
     "data": {
      "text/plain": [
       "2.3126276790445632"
      ]
     },
     "execution_count": 110,
     "metadata": {},
     "output_type": "execute_result"
    }
   ],
   "source": [
    "concrete_pred1 = forest_reg1.predict(concrete_prepared_new)\n",
    "forest_mse = mean_squared_error(concrete_labels, concrete_pred1)\n",
    "forest_rmse = np.sqrt(forest_mse)\n",
    "forest_rmse"
   ]
  },
  {
   "cell_type": "code",
   "execution_count": 111,
   "id": "fabf7b55",
   "metadata": {},
   "outputs": [],
   "source": [
    "forest_scores1 = cross_val_score(forest_reg1, concrete_prepared_new, concrete_labels, \n",
    "                         scoring=\"neg_mean_squared_error\", cv=10)\n",
    "forest_rmse_scores1 = np.sqrt(-forest_scores1)"
   ]
  },
  {
   "cell_type": "code",
   "execution_count": 112,
   "id": "b4e36daf",
   "metadata": {},
   "outputs": [
    {
     "name": "stdout",
     "output_type": "stream",
     "text": [
      "Scores: [6.06558286 5.5806669  5.21706662 4.77175025 5.36397627 5.69843216\n",
      " 4.50052966 4.13952812 5.97806652 5.27418939]\n",
      "Mean: 5.258978875286981\n",
      "Standard deviation: 0.5952410257151589\n"
     ]
    }
   ],
   "source": [
    "display_scores(forest_rmse_scores1)"
   ]
  },
  {
   "cell_type": "code",
   "execution_count": 113,
   "id": "0ac5423e",
   "metadata": {},
   "outputs": [
    {
     "data": {
      "text/plain": [
       "RandomizedSearchCV(cv=5, estimator=RandomForestRegressor(random_state=42),\n",
       "                   param_distributions={'max_features': <scipy.stats._distn_infrastructure.rv_frozen object at 0x000000000F4D5BB0>,\n",
       "                                        'n_estimators': <scipy.stats._distn_infrastructure.rv_frozen object at 0x000000000F4D5310>},\n",
       "                   random_state=42, scoring='neg_mean_squared_error')"
      ]
     },
     "execution_count": 113,
     "metadata": {},
     "output_type": "execute_result"
    }
   ],
   "source": [
    "param_distribs = {\n",
    "        'n_estimators': randint(low=1, high=200),\n",
    "        'max_features': randint(low=1, high=8),\n",
    "    }\n",
    "\n",
    "forest_reg1 = RandomForestRegressor(random_state=42)\n",
    "rnd_search = RandomizedSearchCV(forest_reg1, param_distributions=param_distribs,\n",
    "                                n_iter=10, cv=5, scoring='neg_mean_squared_error', random_state=42)\n",
    "rnd_search.fit(concrete_prepared_new, concrete_labels)"
   ]
  },
  {
   "cell_type": "code",
   "execution_count": 115,
   "id": "5bf28c68",
   "metadata": {},
   "outputs": [
    {
     "name": "stdout",
     "output_type": "stream",
     "text": [
      "5.403911379204911 {'max_features': 7, 'n_estimators': 180}\n",
      "5.49321379837044 {'max_features': 5, 'n_estimators': 15}\n",
      "5.267016814911384 {'max_features': 3, 'n_estimators': 72}\n",
      "5.46358521907218 {'max_features': 5, 'n_estimators': 21}\n",
      "5.412709271933811 {'max_features': 7, 'n_estimators': 122}\n",
      "5.253408258171142 {'max_features': 3, 'n_estimators': 75}\n",
      "5.253089456666656 {'max_features': 3, 'n_estimators': 88}\n",
      "5.332906905946926 {'max_features': 5, 'n_estimators': 100}\n",
      "5.226590801247389 {'max_features': 3, 'n_estimators': 150}\n",
      "6.962087039515828 {'max_features': 5, 'n_estimators': 2}\n"
     ]
    }
   ],
   "source": [
    "cvres3 = rnd_search.cv_results_\n",
    "for mean_score, params in zip(cvres3[\"mean_test_score\"], cvres3[\"params\"]):\n",
    "    print(np.sqrt(-mean_score), params)"
   ]
  },
  {
   "cell_type": "code",
   "execution_count": 117,
   "id": "56a26ae3",
   "metadata": {},
   "outputs": [
    {
     "data": {
      "text/plain": [
       "array([0.08075157, 0.06727789, 0.03423771, 0.02921176, 0.33234843,\n",
       "       0.14107576, 0.31509688])"
      ]
     },
     "execution_count": 117,
     "metadata": {},
     "output_type": "execute_result"
    }
   ],
   "source": [
    "feature_importances2 = rnd_search.best_estimator_.feature_importances_\n",
    "feature_importances2"
   ]
  },
  {
   "cell_type": "code",
   "execution_count": 118,
   "id": "097a3e43",
   "metadata": {},
   "outputs": [
    {
     "data": {
      "text/plain": [
       "[(0.3323484329688138, 'age'),\n",
       " (0.31509687811923026, '(w/z)eq'),\n",
       " (0.14107576021834534, 'CEM III'),\n",
       " (0.08075156513495575, 'cement'),\n",
       " (0.06727788704261903, 'water'),\n",
       " (0.034237711907734655, 'superplastic'),\n",
       " (0.029211764608301126, 'fineagg')]"
      ]
     },
     "execution_count": 118,
     "metadata": {},
     "output_type": "execute_result"
    }
   ],
   "source": [
    "attributes = num_attribs1\n",
    "sorted(zip(feature_importances2, attributes), reverse=True)"
   ]
  },
  {
   "cell_type": "markdown",
   "id": "3548d70d",
   "metadata": {},
   "source": [
    "Final testing of tuned model"
   ]
  },
  {
   "cell_type": "code",
   "execution_count": 119,
   "id": "a65d3a53",
   "metadata": {},
   "outputs": [
    {
     "data": {
      "text/html": [
       "<div>\n",
       "<style scoped>\n",
       "    .dataframe tbody tr th:only-of-type {\n",
       "        vertical-align: middle;\n",
       "    }\n",
       "\n",
       "    .dataframe tbody tr th {\n",
       "        vertical-align: top;\n",
       "    }\n",
       "\n",
       "    .dataframe thead th {\n",
       "        text-align: right;\n",
       "    }\n",
       "</style>\n",
       "<table border=\"1\" class=\"dataframe\">\n",
       "  <thead>\n",
       "    <tr style=\"text-align: right;\">\n",
       "      <th></th>\n",
       "      <th>cement</th>\n",
       "      <th>slag</th>\n",
       "      <th>ash</th>\n",
       "      <th>water</th>\n",
       "      <th>superplastic</th>\n",
       "      <th>coarseagg</th>\n",
       "      <th>fineagg</th>\n",
       "      <th>age</th>\n",
       "      <th>strength</th>\n",
       "      <th>CEM III</th>\n",
       "      <th>(w/z)eq</th>\n",
       "    </tr>\n",
       "  </thead>\n",
       "  <tbody>\n",
       "    <tr>\n",
       "      <th>775</th>\n",
       "      <td>275.0</td>\n",
       "      <td>0.0</td>\n",
       "      <td>0.0</td>\n",
       "      <td>183.0</td>\n",
       "      <td>0.0</td>\n",
       "      <td>1088.0</td>\n",
       "      <td>808.0</td>\n",
       "      <td>28</td>\n",
       "      <td>24.50</td>\n",
       "      <td>275.0</td>\n",
       "      <td>0.665455</td>\n",
       "    </tr>\n",
       "    <tr>\n",
       "      <th>778</th>\n",
       "      <td>314.0</td>\n",
       "      <td>0.0</td>\n",
       "      <td>113.0</td>\n",
       "      <td>170.0</td>\n",
       "      <td>10.0</td>\n",
       "      <td>925.0</td>\n",
       "      <td>783.0</td>\n",
       "      <td>28</td>\n",
       "      <td>38.46</td>\n",
       "      <td>314.0</td>\n",
       "      <td>0.473274</td>\n",
       "    </tr>\n",
       "    <tr>\n",
       "      <th>592</th>\n",
       "      <td>238.1</td>\n",
       "      <td>0.0</td>\n",
       "      <td>0.0</td>\n",
       "      <td>185.7</td>\n",
       "      <td>0.0</td>\n",
       "      <td>1118.8</td>\n",
       "      <td>789.3</td>\n",
       "      <td>7</td>\n",
       "      <td>10.34</td>\n",
       "      <td>238.1</td>\n",
       "      <td>0.779924</td>\n",
       "    </tr>\n",
       "    <tr>\n",
       "      <th>247</th>\n",
       "      <td>213.7</td>\n",
       "      <td>0.0</td>\n",
       "      <td>174.7</td>\n",
       "      <td>154.8</td>\n",
       "      <td>10.2</td>\n",
       "      <td>1053.5</td>\n",
       "      <td>776.4</td>\n",
       "      <td>28</td>\n",
       "      <td>40.15</td>\n",
       "      <td>213.7</td>\n",
       "      <td>0.545878</td>\n",
       "    </tr>\n",
       "    <tr>\n",
       "      <th>513</th>\n",
       "      <td>164.0</td>\n",
       "      <td>0.0</td>\n",
       "      <td>200.0</td>\n",
       "      <td>181.0</td>\n",
       "      <td>13.0</td>\n",
       "      <td>849.0</td>\n",
       "      <td>846.0</td>\n",
       "      <td>28</td>\n",
       "      <td>15.09</td>\n",
       "      <td>164.0</td>\n",
       "      <td>0.741803</td>\n",
       "    </tr>\n",
       "    <tr>\n",
       "      <th>...</th>\n",
       "      <td>...</td>\n",
       "      <td>...</td>\n",
       "      <td>...</td>\n",
       "      <td>...</td>\n",
       "      <td>...</td>\n",
       "      <td>...</td>\n",
       "      <td>...</td>\n",
       "      <td>...</td>\n",
       "      <td>...</td>\n",
       "      <td>...</td>\n",
       "      <td>...</td>\n",
       "    </tr>\n",
       "    <tr>\n",
       "      <th>946</th>\n",
       "      <td>142.0</td>\n",
       "      <td>167.0</td>\n",
       "      <td>130.0</td>\n",
       "      <td>174.0</td>\n",
       "      <td>11.0</td>\n",
       "      <td>883.0</td>\n",
       "      <td>785.0</td>\n",
       "      <td>28</td>\n",
       "      <td>44.61</td>\n",
       "      <td>309.0</td>\n",
       "      <td>0.481994</td>\n",
       "    </tr>\n",
       "    <tr>\n",
       "      <th>119</th>\n",
       "      <td>251.8</td>\n",
       "      <td>0.0</td>\n",
       "      <td>99.9</td>\n",
       "      <td>146.1</td>\n",
       "      <td>12.4</td>\n",
       "      <td>1006.0</td>\n",
       "      <td>899.8</td>\n",
       "      <td>14</td>\n",
       "      <td>33.36</td>\n",
       "      <td>251.8</td>\n",
       "      <td>0.500754</td>\n",
       "    </tr>\n",
       "    <tr>\n",
       "      <th>373</th>\n",
       "      <td>388.6</td>\n",
       "      <td>97.1</td>\n",
       "      <td>0.0</td>\n",
       "      <td>157.9</td>\n",
       "      <td>12.1</td>\n",
       "      <td>852.1</td>\n",
       "      <td>925.7</td>\n",
       "      <td>28</td>\n",
       "      <td>50.70</td>\n",
       "      <td>485.7</td>\n",
       "      <td>0.325098</td>\n",
       "    </tr>\n",
       "    <tr>\n",
       "      <th>638</th>\n",
       "      <td>186.2</td>\n",
       "      <td>124.1</td>\n",
       "      <td>0.0</td>\n",
       "      <td>185.7</td>\n",
       "      <td>0.0</td>\n",
       "      <td>1083.4</td>\n",
       "      <td>764.3</td>\n",
       "      <td>7</td>\n",
       "      <td>8.00</td>\n",
       "      <td>310.3</td>\n",
       "      <td>0.598453</td>\n",
       "    </tr>\n",
       "    <tr>\n",
       "      <th>711</th>\n",
       "      <td>287.3</td>\n",
       "      <td>120.5</td>\n",
       "      <td>93.9</td>\n",
       "      <td>187.6</td>\n",
       "      <td>9.2</td>\n",
       "      <td>904.4</td>\n",
       "      <td>695.9</td>\n",
       "      <td>28</td>\n",
       "      <td>43.80</td>\n",
       "      <td>407.8</td>\n",
       "      <td>0.421232</td>\n",
       "    </tr>\n",
       "  </tbody>\n",
       "</table>\n",
       "<p>206 rows × 11 columns</p>\n",
       "</div>"
      ],
      "text/plain": [
       "     cement   slag    ash  water  superplastic  coarseagg  fineagg  age  \\\n",
       "775   275.0    0.0    0.0  183.0           0.0     1088.0    808.0   28   \n",
       "778   314.0    0.0  113.0  170.0          10.0      925.0    783.0   28   \n",
       "592   238.1    0.0    0.0  185.7           0.0     1118.8    789.3    7   \n",
       "247   213.7    0.0  174.7  154.8          10.2     1053.5    776.4   28   \n",
       "513   164.0    0.0  200.0  181.0          13.0      849.0    846.0   28   \n",
       "..      ...    ...    ...    ...           ...        ...      ...  ...   \n",
       "946   142.0  167.0  130.0  174.0          11.0      883.0    785.0   28   \n",
       "119   251.8    0.0   99.9  146.1          12.4     1006.0    899.8   14   \n",
       "373   388.6   97.1    0.0  157.9          12.1      852.1    925.7   28   \n",
       "638   186.2  124.1    0.0  185.7           0.0     1083.4    764.3    7   \n",
       "711   287.3  120.5   93.9  187.6           9.2      904.4    695.9   28   \n",
       "\n",
       "     strength  CEM III   (w/z)eq  \n",
       "775     24.50    275.0  0.665455  \n",
       "778     38.46    314.0  0.473274  \n",
       "592     10.34    238.1  0.779924  \n",
       "247     40.15    213.7  0.545878  \n",
       "513     15.09    164.0  0.741803  \n",
       "..        ...      ...       ...  \n",
       "946     44.61    309.0  0.481994  \n",
       "119     33.36    251.8  0.500754  \n",
       "373     50.70    485.7  0.325098  \n",
       "638      8.00    310.3  0.598453  \n",
       "711     43.80    407.8  0.421232  \n",
       "\n",
       "[206 rows x 11 columns]"
      ]
     },
     "execution_count": 119,
     "metadata": {},
     "output_type": "execute_result"
    }
   ],
   "source": [
    "strat_test_set_new = strat_test_set.copy()\n",
    "strat_test_set_new"
   ]
  },
  {
   "cell_type": "code",
   "execution_count": 121,
   "id": "8d60be4a",
   "metadata": {},
   "outputs": [],
   "source": [
    "final_model2 = rnd_search.best_estimator_\n",
    "X_test = strat_test_set_new.drop([\"strength\", 'slag', 'ash', 'coarseagg'], axis=1)\n",
    "y_test = strat_test_set_new[\"strength\"].copy()\n",
    "X_test_prepared = full_pipeline1.transform(X_test)\n",
    "final_predictions1 = final_model2.predict(X_test_prepared)\n",
    "final_mse = mean_squared_error(y_test, final_predictions1)\n",
    "final_rmse = np.sqrt(final_mse)"
   ]
  },
  {
   "cell_type": "code",
   "execution_count": 122,
   "id": "de7fe557",
   "metadata": {},
   "outputs": [
    {
     "data": {
      "text/plain": [
       "4.84747037470688"
      ]
     },
     "execution_count": 122,
     "metadata": {},
     "output_type": "execute_result"
    }
   ],
   "source": [
    "final_rmse"
   ]
  },
  {
   "cell_type": "markdown",
   "id": "03bac54d",
   "metadata": {},
   "source": [
    "Fine-tuning resulted in marginal improvement of model. Prediction accuracy is about 5 Mpa"
   ]
  },
  {
   "cell_type": "code",
   "execution_count": null,
   "id": "b2ebb42a",
   "metadata": {},
   "outputs": [],
   "source": []
  }
 ],
 "metadata": {
  "kernelspec": {
   "display_name": "Python 3",
   "language": "python",
   "name": "python3"
  },
  "language_info": {
   "codemirror_mode": {
    "name": "ipython",
    "version": 3
   },
   "file_extension": ".py",
   "mimetype": "text/x-python",
   "name": "python",
   "nbconvert_exporter": "python",
   "pygments_lexer": "ipython3",
   "version": "3.8.8"
  }
 },
 "nbformat": 4,
 "nbformat_minor": 5
}
